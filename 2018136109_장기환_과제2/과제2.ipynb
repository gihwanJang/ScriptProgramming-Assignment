{
 "cells": [
  {
   "cell_type": "markdown",
   "id": "41fd083f",
   "metadata": {},
   "source": [
    "# <span style=\"color:green\">Assignment 2</span>  \n",
    "  \n",
    "- 과목  : 스크립트 프로그래밍  \n",
    "- 작성자 : 장기환  \n",
    "- 학변 : 2018136109\n",
    "- 내용 : 과제 2  "
   ]
  },
  {
   "cell_type": "markdown",
   "id": "f0f97cca",
   "metadata": {},
   "source": [
    "## <span style=\"color:#778899\">[일반문제]</span>  "
   ]
  },
  {
   "cell_type": "markdown",
   "id": "b5d2d1e5",
   "metadata": {},
   "source": [
    "## <span style=\"color:#87CEEB\">과제 2.1</span>\n",
    "문제 : 다음 6 개의 Expression에 대해 Evaluation 결과 값을 출력하고, 해당 결과가 나온 이유에 대해 설명하시오.   \n",
    "<pre>&#176; a) 1 and 2 and 3 and 4  \n",
    "&#176; b) 1 or 2 or 3 or 4\n",
    "&#176; c) 1 and 2 or 3 and 4\n",
    "&#176; d) (1 and 2) or (3 and 4)\n",
    "&#176; e) 1 or 2 and 3 or 4\n",
    "&#176; f) (1 or 2) and (3 or 4)           </pre>"
   ]
  },
  {
   "cell_type": "markdown",
   "id": "398f5ab0",
   "metadata": {},
   "source": [
    "- a\n",
    "    - and 연산자의 경우 앞에 참이라도 뒤가 거짓이면 거짓을 나타내고 앞이 거짓이면 뒤는 볼필요 없이 거짓이 된다.\n",
    "    - 해당 논리 연산에 사용된 값은 0이 없다.\n",
    "    - 앞에서 부터 비교해 거짓이 없음으로 가장 끝의 Evaluation인 4가 출력된다."
   ]
  },
  {
   "cell_type": "code",
   "execution_count": 1,
   "id": "94eec1e8",
   "metadata": {},
   "outputs": [
    {
     "data": {
      "text/plain": [
       "4"
      ]
     },
     "execution_count": 1,
     "metadata": {},
     "output_type": "execute_result"
    }
   ],
   "source": [
    "1 and 2 and 3 and 4"
   ]
  },
  {
   "cell_type": "markdown",
   "id": "3206ca0d",
   "metadata": {},
   "source": [
    "- b\n",
    "    - or 연산자의 경우 앞이 거짓이면 뒤가 참이면 참, 거짓이면 거짓을 나타고 앞이 참이면 뒤는 볼필요 없이 참이 된다.\n",
    "    - 해당 논리 연산에 사용된 값은 0이 없다.\n",
    "    - 앞에서 부터 비교해 가장 앞의 Evaluation인 1이므로 뒤는 볼필요가 없음으로 1이 출력된다."
   ]
  },
  {
   "cell_type": "code",
   "execution_count": 2,
   "id": "7c82f6e4",
   "metadata": {},
   "outputs": [
    {
     "data": {
      "text/plain": [
       "1"
      ]
     },
     "execution_count": 2,
     "metadata": {},
     "output_type": "execute_result"
    }
   ],
   "source": [
    "1 or 2 or 3 or 4"
   ]
  },
  {
   "cell_type": "markdown",
   "id": "ae0afc57",
   "metadata": {},
   "source": [
    "- c\n",
    "    - and 연산자의 경우 앞에 참이라도 뒤가 거짓이면 거짓을 나타내고 앞이 거짓이면 뒤는 볼필요 없이 거짓이 된다.\n",
    "    - or 연산자의 경우 앞이 거짓이면 뒤가 참이면 참, 거짓이면 거짓을 나타고 앞이 참이면 뒤는 볼필요 없이 참이 된다.\n",
    "    - 해당 노리 연산에 사용된 값은 0이 없다.\n",
    "    - 앞에서부터 비교해 1과 2를 and 로 연산 하므로 뒤의 값인 2를 받고 다음 연산자인 or는 앞이 참이므로 뒤는 볼필요가 없어 2를 출력하게 된다."
   ]
  },
  {
   "cell_type": "code",
   "execution_count": 3,
   "id": "ba2cad3c",
   "metadata": {},
   "outputs": [
    {
     "data": {
      "text/plain": [
       "2"
      ]
     },
     "execution_count": 3,
     "metadata": {},
     "output_type": "execute_result"
    }
   ],
   "source": [
    "1 and 2 or 3 and 4"
   ]
  },
  {
   "cell_type": "markdown",
   "id": "24c6d369",
   "metadata": {},
   "source": [
    "- d\n",
    "    - and 연산자의 경우 앞에 참이라도 뒤가 거짓이면 거짓을 나타내고 앞이 거짓이면 뒤는 볼필요 없이 거짓이 된다.\n",
    "    - or 연산자의 경우 앞이 거짓이면 뒤가 참이면 참, 거짓이면 거짓을 나타고 앞이 참이면 뒤는 볼필요 없이 참이 된다.\n",
    "    - 해당 노리 연산에 사용된 값은 0이 없다.\n",
    "    - 우선 연산자 괄호 안을 비교해 1과 2를 and 로 연산 하므로 뒤의 값인 2를 받고 다음 연산자인 or는 앞이 참이므로 뒤는 볼필요가 없어 2를 출력하게 된다."
   ]
  },
  {
   "cell_type": "code",
   "execution_count": 4,
   "id": "de996600",
   "metadata": {},
   "outputs": [
    {
     "data": {
      "text/plain": [
       "2"
      ]
     },
     "execution_count": 4,
     "metadata": {},
     "output_type": "execute_result"
    }
   ],
   "source": [
    "(1 and 2) or (3 and 4)"
   ]
  },
  {
   "cell_type": "markdown",
   "id": "49c6784a",
   "metadata": {},
   "source": [
    "- e\n",
    "    - and 연산자의 경우 앞에 참이라도 뒤가 거짓이면 거짓을 나타내고 앞이 거짓이면 뒤는 볼필요 없이 거짓이 된다.\n",
    "    - or 연산자의 경우 앞이 거짓이면 뒤가 참이면 참, 거짓이면 거짓을 나타고 앞이 참이면 뒤는 볼필요 없이 참이 된다.\n",
    "    - 해당 노리 연산에 사용된 값은 0이 없다.\n",
    "    - 앞에서부터 비교해 1과 2를 or 로 연산 하므로 앞 1이 참이므로 뒤는 볼표요가 없어 1을 출력하게 된다."
   ]
  },
  {
   "cell_type": "code",
   "execution_count": 5,
   "id": "e70de654",
   "metadata": {},
   "outputs": [
    {
     "data": {
      "text/plain": [
       "1"
      ]
     },
     "execution_count": 5,
     "metadata": {},
     "output_type": "execute_result"
    }
   ],
   "source": [
    "1 or 2 and 3 or 4"
   ]
  },
  {
   "cell_type": "markdown",
   "id": "3355363d",
   "metadata": {},
   "source": [
    "- d\n",
    "    - and 연산자의 경우 앞에 참이라도 뒤가 거짓이면 거짓을 나타내고 앞이 거짓이면 뒤는 볼필요 없이 거짓이 된다.\n",
    "    - or 연산자의 경우 앞이 거짓이면 뒤가 참이면 참, 거짓이면 거짓을 나타고 앞이 참이면 뒤는 볼필요 없이 참이 된다.\n",
    "    - 해당 노리 연산에 사용된 값은 0이 없다.\n",
    "    - 우선 연산자 괄호 안을 비교해 1과 2를 or 로 연산 하므로 앞의 값인 1을 받고 다음 연산자인 and 연산자는 뒤의 값을 알아야 하므로 뒤의 우선 연산자인 괄호 안으로 들어가 3과 5의 or 연산을 하고 앞이 3이므로 뒤는 보지 않고 3을 출력한다."
   ]
  },
  {
   "cell_type": "code",
   "execution_count": 6,
   "id": "d5b1d0d0",
   "metadata": {},
   "outputs": [
    {
     "data": {
      "text/plain": [
       "3"
      ]
     },
     "execution_count": 6,
     "metadata": {},
     "output_type": "execute_result"
    }
   ],
   "source": [
    "(1 or 2) and (3 or 4)"
   ]
  },
  {
   "cell_type": "markdown",
   "id": "7fdf9f43",
   "metadata": {},
   "source": [
    "## <span style=\"color:#87CEEB\">과제 2.2</span>\n",
    "문제 : 경로에 해당하는 문자열 1개를 입력받아 그 안에 디렉토리 경로명과 파일명을 분리하여 리스트로 반환하는 함수 div_path(s)를 작성하시오.    \n",
    "<pre>&#176; 인자로 전달하는 문자열은 경로만 들어간다고 가정한다.\n",
    "&#176; 각 디렉토리와 파일을 구분하는 문자는 '/'로 가정한다.\n",
    "&#176; 반환하는 리스트의 첫번째 원소는 디렉토리이고 두번째 원소는 파일명이다.\n",
    "&#176; 다음과 같은 실행 및 출력 결과가 도출되어야 한다.\n",
    "    &squarf; div_path('/usr/local/bin/python')\n",
    "        &bull; ['/usr/local/bin', 'python']\n",
    "    &squarf; div_path('/home/chulsoo/test.txt')\n",
    "        &bull; ['/home/chulsoo', 'test.txt']\n",
    "&#176; [참고] 리스트(l) 내에 새로운 정수값 (예를 들어 10)을 넣는 방법은 l.append(10) 이다.           </pre>"
   ]
  },
  {
   "cell_type": "code",
   "execution_count": 29,
   "id": "6e2f7d15",
   "metadata": {},
   "outputs": [],
   "source": [
    "def div_path(s):\n",
    "    #마지막으로 \"/\"가 저장된 인덱스값 저장\n",
    "    k=s.rfind(\"/\")\n",
    "    #마지막 \"/\" 전의 문자열과 다음의 문자열을 따로 리스트에 저장\n",
    "    path_list=[s[0:k],s[k+1:]]\n",
    "    return path_list"
   ]
  },
  {
   "cell_type": "code",
   "execution_count": 30,
   "id": "d127413b",
   "metadata": {},
   "outputs": [
    {
     "data": {
      "text/plain": [
       "['/usr/local/bin', 'python']"
      ]
     },
     "execution_count": 30,
     "metadata": {},
     "output_type": "execute_result"
    }
   ],
   "source": [
    "div_path('/usr/local/bin/python')"
   ]
  },
  {
   "cell_type": "code",
   "execution_count": 31,
   "id": "9583dfa3",
   "metadata": {},
   "outputs": [
    {
     "data": {
      "text/plain": [
       "['/home/chulsoo', 'test.txt']"
      ]
     },
     "execution_count": 31,
     "metadata": {},
     "output_type": "execute_result"
    }
   ],
   "source": [
    "div_path('/home/chulsoo/test.txt')"
   ]
  },
  {
   "cell_type": "markdown",
   "id": "1c9ac21a",
   "metadata": {},
   "source": [
    "## <span style=\"color:#87CEEB\">과제 2.3</span>\n",
    "문제 : 두 개의 리스트를 인자로 받아서 그 두 개의 리스트에 대한 '합집합'을 반환하는 함수 list_union(lista, listb)를 작성하시오.  \n",
    "<pre>&#176; 집합 자료형 set은 사용하지 않는다.\n",
    "&#176; 인자로 전달하는 리스트 2 개에는 정수값만 들어간다고 가정하자.\n",
    "&#176; 함수 내에서 새로운 리스트를 만들어 그 리스트 내에 인자로 받은 두 리스트의 모든 원소를 넣어 반환한다.\n",
    "&#176; 반환하는 리스트에는 절대로 중복된 원소가 들어 있으면 안된다 (집합의 조건).\n",
    "&#176; 반환하는 리스트는 정렬이 되어 있어야 한다.\n",
    "&#176; 다음과 같은 실행 및 출력 결과가 도출되어야 한다.\n",
    "    &squarf; list_union([1, 2, 3], [1, 2, 4])\n",
    "        &bull;[1, 2, 3, 4]\n",
    "    &squarf; list_union([-10, -5, 0, -1], [100, 9, 0, 9])\n",
    "        &bull;[-10, -5, -1, 0, 9, 100]\n",
    "    &squarf; list_union([0, 1, 2], [0, 1, 2])\n",
    "        &bull;[0, 1, 2]\n",
    "&#176; [참고] 리스트(l) 내에 새로운 정수값 (예를 들어 10)을 넣는 방법은 l.append(10) 이다.\n",
    "&#176; [참고] 임의의 정수값 (x)이 리스트 (l) 내에 존재하는지 판단하는 방법은 x in l 이다.\n",
    "</pre>"
   ]
  },
  {
   "cell_type": "code",
   "execution_count": 17,
   "id": "0bd97461",
   "metadata": {},
   "outputs": [],
   "source": [
    "def list_union(lista, listb):\n",
    "    #합집합 리스트\n",
    "    listc=[]\n",
    "    #a집합 리스트의 값을 합집합 리스트에 없으면 추가\n",
    "    for i in range (len(lista)):\n",
    "        if(not lista[i] in listc):\n",
    "            listc.append(lista[i])\n",
    "    #b집합 리스트의 값을 합집합 리스트에 없으면 추가\n",
    "    for i in range(len(listb)):\n",
    "        if(not listb[i] in listc):\n",
    "            listc.append(listb[i])\n",
    "    return sorted(listc)"
   ]
  },
  {
   "cell_type": "code",
   "execution_count": 21,
   "id": "2c1cfc87",
   "metadata": {},
   "outputs": [
    {
     "data": {
      "text/plain": [
       "[1, 2, 3, 4]"
      ]
     },
     "execution_count": 21,
     "metadata": {},
     "output_type": "execute_result"
    }
   ],
   "source": [
    "list_union([1, 2, 3], [1, 2, 4])"
   ]
  },
  {
   "cell_type": "code",
   "execution_count": 22,
   "id": "7be071de",
   "metadata": {},
   "outputs": [
    {
     "data": {
      "text/plain": [
       "[-10, -5, -1, 0, 9, 100]"
      ]
     },
     "execution_count": 22,
     "metadata": {},
     "output_type": "execute_result"
    }
   ],
   "source": [
    "list_union([-10, -5, 0, -1], [100, 9, 0, 9])"
   ]
  },
  {
   "cell_type": "code",
   "execution_count": 23,
   "id": "4cc2e52f",
   "metadata": {},
   "outputs": [
    {
     "data": {
      "text/plain": [
       "[0, 1, 2]"
      ]
     },
     "execution_count": 23,
     "metadata": {},
     "output_type": "execute_result"
    }
   ],
   "source": [
    "list_union([0, 1, 2], [0, 1, 2])"
   ]
  },
  {
   "cell_type": "markdown",
   "id": "c23e5d01",
   "metadata": {},
   "source": [
    "## <span style=\"color:#87CEEB\">과제 2.4</span>\n",
    "문제 : 두 개의 리스트를 인자로 받아서 그 두 개의 리스트에 대한 '교집합'을 반환하는 함수 list_intersection(lista, listb)와 '차집합'을 반환하는 함수 list_difference(lista, listb)를 작성하시오.\n",
    "<pre>&#176; 모든 가정과 조건은 3번 문제와 동일하다.</pre>"
   ]
  },
  {
   "cell_type": "code",
   "execution_count": 24,
   "id": "426db189",
   "metadata": {},
   "outputs": [],
   "source": [
    "def list_intersection(lista, listb):\n",
    "    #차집합 리스트\n",
    "    listc=[]\n",
    "    #b리스트의 값이 a리스트와 차집합 리스트에 없으면 차집합 리스트에 추가\n",
    "    for i in range(len(listb)):\n",
    "        if((not listb[i] in lista)and(not listb[i] in listc)):\n",
    "           listc.append(listb[i])\n",
    "    #a리스트의 값이 b리스트와 차집합 리스트에 없으면 차집합 리스트에 추가    \n",
    "    for i in range(len(lista)):\n",
    "        if((not lista[i] in listb) and (not lista[i] in listc)):\n",
    "           listc.append(lista[i])\n",
    "    return sorted(listc)"
   ]
  },
  {
   "cell_type": "code",
   "execution_count": 25,
   "id": "bb4c1ceb",
   "metadata": {},
   "outputs": [
    {
     "data": {
      "text/plain": [
       "[3, 4]"
      ]
     },
     "execution_count": 25,
     "metadata": {},
     "output_type": "execute_result"
    }
   ],
   "source": [
    "list_intersection([1, 2, 3], [1, 2, 4])"
   ]
  },
  {
   "cell_type": "code",
   "execution_count": 26,
   "id": "2249d161",
   "metadata": {},
   "outputs": [
    {
     "data": {
      "text/plain": [
       "[-10, -5, -1, 9, 100]"
      ]
     },
     "execution_count": 26,
     "metadata": {},
     "output_type": "execute_result"
    }
   ],
   "source": [
    "list_intersection([-10, -5, 0, -1], [100, 9, 0, 9])"
   ]
  },
  {
   "cell_type": "code",
   "execution_count": 27,
   "id": "90df2d59",
   "metadata": {},
   "outputs": [
    {
     "data": {
      "text/plain": [
       "[]"
      ]
     },
     "execution_count": 27,
     "metadata": {},
     "output_type": "execute_result"
    }
   ],
   "source": [
    "list_intersection([0, 1, 2], [0, 1, 2])"
   ]
  },
  {
   "cell_type": "markdown",
   "id": "6fc5d1a7",
   "metadata": {},
   "source": [
    "## <span style=\"color:#87CEEB\">과제 2.5</span>\n",
    "문제 : 두 개의 양의 정수를 인자로 받아서 해당 범위안에 있는 소수(prime number)의 리스트를 출력하는 함수 print_primenumber(a, b)를 작성하시오.\n",
    "<pre>&#176; 이미 구현된 모듈이나 라이브러리는 사용하지 않는다.\n",
    "&#176; 함수의 반환(return)은 없으며 함수 내의 끝에서 .format()을 사용하여 다음과 같이 출력한다.\n",
    "    &squarf; print_primenumber(2, 10)\n",
    "        &bull; 2 이상 10 이하 정수 중 소수 리스트: [2, 3, 5, 7]</pre>"
   ]
  },
  {
   "cell_type": "code",
   "execution_count": 24,
   "id": "9c9e25f2",
   "metadata": {},
   "outputs": [],
   "source": [
    "def print_primenumber(a, b):\n",
    "    #사작 범위가 음수인것을 방지\n",
    "    if(a<=1):\n",
    "        a=2\n",
    "    prime_list=[]\n",
    "    count=0\n",
    "    #1과 자기자신을 제외한 정수로 나누어 나머지가 있는지 없는지 판별\n",
    "    for i in range (a,b+1):\n",
    "        for j in range (2,i):\n",
    "            if(i%j==0):\n",
    "                count+=1\n",
    "                break\n",
    "        #나머지가 없으면 소수이므로 리스트에 추가\n",
    "        if(count==0):\n",
    "            prime_list.append(i)\n",
    "        count=0\n",
    "    print(\"2 이상 10 이하 정수 중 소수 리스트: {}\".format(prime_list))"
   ]
  },
  {
   "cell_type": "code",
   "execution_count": 25,
   "id": "7b1923cb",
   "metadata": {},
   "outputs": [
    {
     "name": "stdout",
     "output_type": "stream",
     "text": [
      "2 이상 10 이하 정수 중 소수 리스트: [2, 3, 5, 7]\n"
     ]
    }
   ],
   "source": [
    "print_primenumber(2, 10)"
   ]
  },
  {
   "cell_type": "markdown",
   "id": "06865f5e",
   "metadata": {},
   "source": [
    "## <span style=\"color:#778899\">[Incremental Project 문제]</span>  "
   ]
  },
  {
   "cell_type": "markdown",
   "id": "f60c0763",
   "metadata": {},
   "source": [
    "## <span style=\"color:#87CEEB\">과제 2.6</span>\n",
    "문제 : 웹 URL로 지정된 웹페이지를 문자열로 가져와 1) 모든 HTML 태그를 제외한 순수 텍스트 문자열만을 걸러내고, 2) 그 순수 텍스트 문자열 안에 존재하는 단어가 총 몇개인지 출력하는 프로그램을 작성하시오.\n",
    "<pre>&#176; HTML 태그는 다음 조건을 가지는 것이다.\n",
    "\n",
    "    &squarf; &lt; 로 시작하여 &gt;로 끝난다.\n",
    "    &squarf; 예를 들어, 아래와 같은 HTML 내용 내에 한 줄이 있다고 가정하자.\n",
    "        &lt;label for=\"keep_signed\"&gt;로그인 유지&lt;/label&gt;\n",
    "        &bull; 위 소스에서 HTML 태그를 제외한 순수 텍스트 문자열: 로그인 유지 \n",
    "\n",
    "    &squarf; 다른 예제  \n",
    "\n",
    "        &lt;a href=\"#panel-3\" class=\"ui-tabs-anchor\" role=\"presentation\" tabindex=\"-1\" id=\"ui-id-3\"&gt;&lt;strong&gt;교육역량강화사업 온라인 컨텐츠&lt;/strong&gt;&lt;br&gt;\n",
    "                    \n",
    "        &bull; 순수 텍스트 문자열: 교육역량강화사업 온라인 컨텐츠 \n",
    "\n",
    "    &squarf; 한편, 아래와 같은 HTML 한 줄이 있다고 가정하자.</pre>\n",
    "\n",
    "        <link rel=\"stylesheet\" href=\"/common/css/xe.min.css?20150910092654\" />\n",
    "<pre>\n",
    "        &bull; 위 한 줄은 HTML 태그로만 구성된 것이며 걸러낼 수 있는 순수 텍스 문자열은 존재하지 않는다.  \n",
    "\n",
    "    &squarf; 다른 예제\n",
    "        //<![CDATA[\n",
    "        xe.current_lang = \"ko\";\n",
    "        xe.cmd_find = \"찾기\";\n",
    "        xe.cmd_cancel = \"취소\";\n",
    "        xe.cmd_confirm = \"확인\";\n",
    "        xe.msg_no_root = \"루트는 선택 할 수 없습니다.\";\n",
    "        xe.msg_no_shortcut = \"바로가기는 선택 할 수 없습니다.\";\n",
    "        xe.msg_select_menu = \"대상 메뉴 선택\";\n",
    "        //]]>\n",
    "        &bull; 순수 텍스트 문자열: 없음 \n",
    "\n",
    "&#176; 단어를 나누는 기준은 오로지 공백문자 (whitespace)이다.\n",
    "    &squarf; 즉, 위 순수 텍스트 문자열인 \"로그인 유지\"에서 분리한 단어는 \"로그인\"과 \"유지\"이다.\n",
    "&#176; 중복을 고려하지 않고 무조건 모든 단어의 개수를 세어서 출력한다.\n",
    "&#176;본 숙제를 위하여 HTML 파싱과 관련된 모듈 (예. BeautifulSoup) 사용 금지\n",
    "&#176;다음은 URL로 지정된 웹페이지를 특정 문자열로 가져오는 코드이다.\n",
    "    &squarf;즉, 숙제 코드는 아래 코드로 부터 시작해야 한다.\n",
    "    &squarf;아래 코드 수행시 requests 모듈이 존재하지 않는 에러가 발생하면 command 창에서 다음 코드 입력하여 requests 모듈 설치후 아래 코드 수행\n",
    "            > pip install requests</pre>"
   ]
  },
  {
   "cell_type": "code",
   "execution_count": 14,
   "id": "a07afaa1",
   "metadata": {},
   "outputs": [],
   "source": [
    "import requests\n",
    "# html 이스케이프 문자 변환을 위한 import문\n",
    "import html\n",
    "\n",
    "req_naver = requests.get('http://www.naver.com')\n",
    "req_google = requests.get('http://www.google.com')\n",
    "\n",
    "source_naver = req_naver.text\n",
    "source_google = req_google.text"
   ]
  },
  {
   "cell_type": "code",
   "execution_count": 15,
   "id": "6d2fdbb2",
   "metadata": {},
   "outputs": [],
   "source": [
    "#print(source)"
   ]
  },
  {
   "cell_type": "code",
   "execution_count": 16,
   "id": "fece2bee",
   "metadata": {},
   "outputs": [],
   "source": [
    "def countWords(source):\n",
    "    words=[]\n",
    "    #<script>같은 경우 <script> </script> 사이에 코드나 파일을 삽입하는 코드이므로 해당 명령어 따로 삭제\n",
    "    while(source.find(\"<script\")+1):\n",
    "        first_script=source.find(\"<script\")\n",
    "        last_script=source.find(\"</script>\")\n",
    "        source=source.replace(source[first_script:last_script+9],'')\n",
    "    #<script>같은 경우 <style> </style> 사이에 스타일에 관한 명령어를 삽입하는 코드이므로 해당 명령어 따로 삭제\n",
    "    while(source.find(\"<style\")+1):\n",
    "        first_style=source.find(\"<style\")\n",
    "        last_style=source.find(\"</style>\")\n",
    "        source=source.replace(source[first_style:last_style+8],'')\n",
    "    #이외 <>들의 명령어 삭제\n",
    "    while((source.find(\"<\")+1)and(source.find(\">\")+1)):\n",
    "        first=source.find(\"<\")\n",
    "        last=source.find(\">\")\n",
    "        source=source.replace(source[first:last+1],'')    \n",
    "    #html의 이스케이프 문자를 문자로 변환\n",
    "    source=html.unescape(source)\n",
    "    #공백을 기준으로 리스트화\n",
    "    words=source.split()\n",
    "    return words"
   ]
  },
  {
   "cell_type": "code",
   "execution_count": 17,
   "id": "08866ac4",
   "metadata": {},
   "outputs": [
    {
     "data": {
      "text/plain": [
       "24"
      ]
     },
     "execution_count": 17,
     "metadata": {},
     "output_type": "execute_result"
    }
   ],
   "source": [
    "len(countWords(source_google))"
   ]
  },
  {
   "cell_type": "code",
   "execution_count": 19,
   "id": "fb02d9fe",
   "metadata": {},
   "outputs": [
    {
     "name": "stdout",
     "output_type": "stream",
     "text": [
      "[['Google검색', '이미지', '지도', 'Play', 'YouTube', '뉴스', 'Gmail', '드라이브', '더보기', '»웹', '기록', '|', '설정', '|', '로그인', '고급검색광고', '프로그램비즈니스', '솔루션Google', '정보Google.co.kr©', '2021', '-', '개인정보처리방침', '-', '약관']]\n"
     ]
    }
   ],
   "source": [
    "w=[countWords(source_google)]\n",
    "print(w)"
   ]
  },
  {
   "cell_type": "code",
   "execution_count": 20,
   "id": "a1de76d1",
   "metadata": {},
   "outputs": [
    {
     "data": {
      "text/plain": [
       "4482"
      ]
     },
     "execution_count": 20,
     "metadata": {},
     "output_type": "execute_result"
    }
   ],
   "source": [
    "len(countWords(source_naver))"
   ]
  },
  {
   "cell_type": "markdown",
   "id": "8b35fcf7",
   "metadata": {},
   "source": [
    "## <span style=\"color:#87CEEB\">소감</span>\n",
    " 이번 과제는 첫 과제 보다 양은 적었지만 문제의 질이 높았다고 생각이된다.  \n",
    "특히 마지막 문제는 일단 기본적으로 해결하기 위해서는 html을 어느정도 이해하고 있어야 해결 할 수 있었기 때문에 별도로 html을 수박겉햘기 싞으로 공부를 좀 했고 해당 html 코드를 어떻게 삭제할지에 관하여 생각하느라 고생을 좀 했다.  \n",
    "특히 &#숫자;와 같은 html의 이스케이프 문자를 유니코드와 혼선이 있어 인코딩과 디코딩을 이용하여 해당 문제를 해결 하려다보니 시간이 많이 소비 되었다.  \n",
    "하지만 위와 같이 아쉬운 부분만 있는 것은 아니었다.  \n",
    "마크다운이 html 코드를 사용한다는 것을 알 수 있었고 마크다운을 더 예쁘게 작성할 수 있게 되었고 무엇 보다 이번 과제에서는 문자열 관련 메소드를 많이 사용하다보니 문자열의 관련 메소드가 손에 익어 당분간은 까먹지는 않을 것 같다."
   ]
  }
 ],
 "metadata": {
  "kernelspec": {
   "display_name": "Python 3",
   "language": "python",
   "name": "python3"
  },
  "language_info": {
   "codemirror_mode": {
    "name": "ipython",
    "version": 3
   },
   "file_extension": ".py",
   "mimetype": "text/x-python",
   "name": "python",
   "nbconvert_exporter": "python",
   "pygments_lexer": "ipython3",
   "version": "3.8.8"
  }
 },
 "nbformat": 4,
 "nbformat_minor": 5
}
