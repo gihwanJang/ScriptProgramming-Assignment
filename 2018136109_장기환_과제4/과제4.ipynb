{
 "cells": [
  {
   "cell_type": "markdown",
   "id": "5d4629ca",
   "metadata": {},
   "source": [
    "# <span style=\"color:green\">Assignment 4</span>  \n",
    "  \n",
    "- 과목  : 스크립트 프로그래밍  \n",
    "- 작성자 : 장기환  \n",
    "- 학변 : 2018136109\n",
    "- 내용 : 과제 4"
   ]
  },
  {
   "cell_type": "markdown",
   "id": "b83b4957",
   "metadata": {},
   "source": [
    "## <span style=\"color:#778899\">[일반문제]</span>  "
   ]
  },
  {
   "cell_type": "markdown",
   "id": "99a731a6",
   "metadata": {},
   "source": [
    "## <span style=\"color:#87CEEB\">과제 4.1</span>\n",
    "문제 : 다음 문제를 읽고 알맞은 코드를 제시하시오.     \n",
    "<pre>&#176; 1) 파일 s.txt 내의 다음 내용과 함께 아래 문제의 코드를 제시하시오.  \n",
    "        pig ham\n",
    "        cat dog\n",
    "        ham bird\n",
    "        dog pig\n",
    "&#176; 2) 파일 s.txt을 읽어서 각 라인에 있는 첫 번째 단어(문자열) 자체들을 기준으로 라인별 정렬후 파일 s1.txt에 그 결과를 기록하는 코드를 작성하시오. 즉, 프로그램 수행 후 s1.txt에 있는 파일 내용은 다음과 같다.  \n",
    "        cat dog\n",
    "        dog pig\n",
    "        ham bird\n",
    "        pig ham\n",
    "&#176; 3) 파일 s.txt을 읽어서 각 라인에 있는 두 번째 단어(문자열) 자체들을 기준으로 라인별 정렬후 파일 s2.txt에 그 결과를 기록하는 코드를 작성하시오. 즉, 프로그램 수행 후 s2.txt에 있는 파일 내용은 다음과 같다.  \n",
    "        ham bird\n",
    "        cat dog\n",
    "        pig ham\n",
    "        dog pig\n",
    "&#176; 4) 파일 s.txt을 읽어서 각 라인들에 있는 모든 단어들을 순차적으로 다시 나열하되 각 라인에 세 개의 단어들이 오도록 하여 s3.txt에 기록하는 코드를 작성하시오. 즉, 프로그램 수행 후 s3.txt에 있는 파일 내용은 다음과 같다.\n",
    "        pig ham cat\n",
    "        dog ham bird\n",
    "        dog pig</pre>"
   ]
  },
  {
   "cell_type": "code",
   "execution_count": 3,
   "id": "f69ff93c",
   "metadata": {},
   "outputs": [],
   "source": [
    "import os"
   ]
  },
  {
   "cell_type": "markdown",
   "id": "d9192ce8",
   "metadata": {},
   "source": [
    "<span style=\"color:red\">1)</span>"
   ]
  },
  {
   "cell_type": "code",
   "execution_count": 71,
   "id": "9753f95e",
   "metadata": {},
   "outputs": [
    {
     "name": "stdout",
     "output_type": "stream",
     "text": [
      "pig ham\n",
      "cat dog\n",
      "ham bird\n",
      "dog pig\n",
      "\n"
     ]
    }
   ],
   "source": [
    "#s.txt 생성후 주어진 문자입력후 닫음\n",
    "f = open(\"s.txt\",'w')\n",
    "f.write(\"\"\"pig ham\n",
    "cat dog\n",
    "ham bird\n",
    "dog pig\n",
    "\"\"\")\n",
    "f.close()\n",
    "#파일을 열어 읽음\n",
    "with open('s.txt','r') as f:\n",
    "    print(f.read())"
   ]
  },
  {
   "cell_type": "markdown",
   "id": "88b4aa57",
   "metadata": {},
   "source": [
    "<span style=\"color:red\">2)</span>"
   ]
  },
  {
   "cell_type": "code",
   "execution_count": 72,
   "id": "b37c19b6",
   "metadata": {},
   "outputs": [
    {
     "name": "stdout",
     "output_type": "stream",
     "text": [
      "cat dog\n",
      "dog pig\n",
      "ham bird\n",
      "pig ham\n",
      "\n"
     ]
    }
   ],
   "source": [
    "#일기 모드로 열어 각 라인을 리스트에 저장후 정렬후 문자열로 변경\n",
    "with open('s.txt', 'r') as f:\n",
    "    word = [line for line in f]\n",
    "    word.sort()\n",
    "    s = \"\".join(word)\n",
    "#s1.txt을 생성후 변경한 문자열을 입력\n",
    "with open('s1.txt', 'w') as f: f.write(s)\n",
    "#일기 모드로 열어 출력\n",
    "with open('s1.txt', 'r') as f:\n",
    "    print(f.read())"
   ]
  },
  {
   "cell_type": "markdown",
   "id": "96abd540",
   "metadata": {},
   "source": [
    "<span style=\"color:red\">3)</span>"
   ]
  },
  {
   "cell_type": "code",
   "execution_count": 73,
   "id": "76ac7f61",
   "metadata": {},
   "outputs": [
    {
     "name": "stdout",
     "output_type": "stream",
     "text": [
      "ham bird\n",
      "cat dog\n",
      "pig ham\n",
      "dog pig\n",
      "\n"
     ]
    }
   ],
   "source": [
    "#일기 모드로 열어 각 라인을 리스트에 저장후 2번째 단어로 정렬후 문자열로 변경\n",
    "with open('s.txt', 'r') as f:\n",
    "    word = [line for line in f]\n",
    "    word.sort(key = lambda x: x.split(' ')[1])\n",
    "    s = \"\".join(word)\n",
    "#s1.txt을 생성후 변경한 문자열을 입력\n",
    "with open('s2.txt', 'w') as f: f.write(s)\n",
    "#일기 모드로 열어 출력\n",
    "with open('s2.txt', 'r') as f:\n",
    "    print(f.read())"
   ]
  },
  {
   "cell_type": "markdown",
   "id": "a22905b6",
   "metadata": {},
   "source": [
    "<span style=\"color:red\">4)</span>"
   ]
  },
  {
   "cell_type": "code",
   "execution_count": 86,
   "id": "ba5644a4",
   "metadata": {},
   "outputs": [
    {
     "name": "stdout",
     "output_type": "stream",
     "text": [
      "pig ham cat \n",
      "dog ham bird \n",
      "dog pig \n"
     ]
    }
   ],
   "source": [
    "#일기 모드로 열어 각 라인을 리스트에문자열로 변경\n",
    "with open('s.txt', 'r') as f:\n",
    "    word = [w for line in f for w in line.split()]\n",
    "    s=''\n",
    "    for i in range(len(word)):\n",
    "        if i and i % 3 == 0: s += '\\n'\n",
    "        s += \"%s \" % word[i]\n",
    "with open('s3.txt', 'w') as f: f.write(s)\n",
    "with open('s3.txt', 'r') as f:\n",
    "    print(f.read())"
   ]
  },
  {
   "cell_type": "markdown",
   "id": "e66e0567",
   "metadata": {},
   "source": [
    "## <span style=\"color:#87CEEB\">과제 4.2</span>\n",
    "문제 : 다음과 같은 조건들을 참고하여 회원 가입 및 로그인 프로그램을 작성하시오.  \n",
    "<pre>&#176; 1) 프로그램 시작 후 다음과 같은 메시지가 출력되어 1, 2, 3 중 하나의 값을 입력 받도록 한다.  \n",
    "        Welcome to Our Service\n",
    "\n",
    "        Sign Up\n",
    "        Sign In\n",
    "        Quit\n",
    "&#176; 2) 1을 선택하면 ID, Password, Name, School의 4가지 정보를 입력받아 파일에 저장하는 프로그램을 작성한다.  \n",
    "        &starf; 2-1) 입력된 내용은 access.txt 라는 이름의 텍스트 파일 내에 저장된다.\n",
    "        &starf; 2-2) access.txt 파일의 각 라인에는 가입된 회원 각각의 정보가 \"[id]: [password], [name], [school]\"형태로 저장된다.\n",
    "        &starf; 2-3) 즉, 가입 회원이 10명이면 access.txt 파일 내에 라인 수도 정확히 10개이다.\n",
    "        &starf; 2-4) 암호화 방식은 sha 모듈을 활용한다. sha 모듈 활용 방법은 본 문제의 마지막에 제시된 sha 활용 예를 참고한다.\n",
    "            &#10026; 즉, access.txt 파일 내에 password 정보는 암호화 되어 저장되어야 한다.\n",
    "        &starf; 2-5) 회원 정보를 입력 받을 때 id를 입력 받은 직후 access.txt를 확인하여 이미 존재하는 id가 입력되었다면 다음 메시지를 출력하고 id 정보를 다시 입력받는다.\n",
    "            &#10026; Sorry, the entered ID is already used.\n",
    "&#176; 3) 2를 선택하면 ID, Password의 2가지 정보를 입력받는 프로그램을 작성한다.\n",
    "        &starf; 3-1) 입력된 ID 정보가 access.txt에 존재하지 않으면 다음과 같은 메시지를 출력하고 다시 입력받는다.\n",
    "            &#10026; Sorry, you are not a registered member.\n",
    "        &starf; 3-2) 입력된 ID가 올바르게 존재하지만 Password 정보가 access.txt 파일에 있는 정보와 불일치하면 다음과 같은 메시지를 출력하고 Password를 다시 입력받는다.\n",
    "            &#10026; Sorry, the entered password is not correct.\n",
    "            &#10026; 이 때에도 사용자가 입력한 Password 정보와 함께 sha 모듈이 활용되어야 한다.\n",
    "        &starf; 3-3) 입력된 ID와 Password가 모두 올바르면 다음과 같은 메시지를 출력한다.\n",
    "            &#10026; Hello [name]!\n",
    "            &#10026; 위 [name]에는 access.txt에 기록되어 있는 name 정보를 출력한다.\n",
    "&#176; 4) 3을 선택하면 프로그램이 끝난다.\n",
    "</pre>"
   ]
  },
  {
   "cell_type": "code",
   "execution_count": 49,
   "id": "e50a825e",
   "metadata": {},
   "outputs": [],
   "source": [
    "import hashlib\n",
    "import os\n",
    "\n",
    "def getService():\n",
    "    return int(input(\"Welcome to Our Service\\n\\n1 : Sign Up\\n2 : Sign In\\n3 : Quit\\n\"))\n",
    "\n",
    "def doService(ser):\n",
    "    if ser == 1:\n",
    "        ID = input(\"ID : \")\n",
    "        checkID = True\n",
    "        #access.txt 파일이 존재하지 않는 경우 방지\n",
    "        if os.path.exists(\"access.txt\"):\n",
    "            #입력 아이디가 같지 않을때 까지 반복\n",
    "            while checkID:\n",
    "                #읽기 모드로 파일을 염 \n",
    "                with open(\"access.txt\", \"r\") as f:\n",
    "                    for line in f:\n",
    "                        #입력 아이디와 저장아이디가 같은지 확인 \n",
    "                        if ID==line.split(\":\")[0]:\n",
    "                            print(line)\n",
    "                            print(\"Sorry, the entered ID is already used.\")\n",
    "                            checkID = True\n",
    "                            break\n",
    "                        else: checkID = False\n",
    "                if checkID: ID = input(\"ID : \")\n",
    "        PW = input(\"PW : \")\n",
    "        name = input(\"Name : \")\n",
    "        school = input(\"School : \")\n",
    "        #sha를 이용한 암호화 \n",
    "        encodePW = hashlib.sha1(PW.encode()).hexdigest()\n",
    "        #추가 모드로 파일을 염 \n",
    "        with open(\"access.txt\", \"a\") as f:\n",
    "            f.write(\"%s: %s, %s, %s\\n\" % (ID, encodePW, name, school))\n",
    "    elif ser==2:\n",
    "        ID = input(\"아이디를 입력하세요 : \")\n",
    "        PW = input(\"비밀번호를 입력하세요 : \")\n",
    "        #access.txt 파일이 존재하지 않는 경우 방지\n",
    "        if os.path.exists(\"access.txt\"):\n",
    "            #sha를 이용한 암호화\n",
    "            encodePW = hashlib.sha1(PW.encode()).hexdigest()\n",
    "            checkID = False\n",
    "            #읽기 모드로 파일을 염 \n",
    "            with open(\"access.txt\", \"r\") as f:\n",
    "                for line in f:\n",
    "                    #아이디와 비번이 같은지 판별(둘다 같은 경우)\n",
    "                    if (ID==line.split(\":\")[0]) and (encodePW == line.split(':')[1].split(',')[0].strip()):\n",
    "                        print(\"Hello %s!\" % line.split(':')[1].split(',')[1].strip())\n",
    "                        checkID = True\n",
    "                        break\n",
    "                    #아이디와 비번이 같은지 판별(아이디만 같은경우)\n",
    "                    elif ID==line.split(\":\")[0] and encodePW != line.split(':')[1].split(',')[0].strip():\n",
    "                        while encodePW != line.split(':')[1].split(',')[0].strip():\n",
    "                            print(\"Sorry, the entered password is not correct.\")\n",
    "                            PW = input(\"비밀번호를 입력하세요 : \")\n",
    "                            encodePW = hashlib.sha1(PW.encode()).hexdigest()\n",
    "                        print(\"Hello %s!\" % line.split(':')[1].split(',')[1].strip())\n",
    "                        checkID = True\n",
    "                        break\n",
    "                #아이디 비번 둘다 틀린 경우\n",
    "                if not checkID: print(\"Sorry, you are not a registered member.\")"
   ]
  },
  {
   "cell_type": "code",
   "execution_count": 50,
   "id": "496677e3",
   "metadata": {},
   "outputs": [
    {
     "name": "stdout",
     "output_type": "stream",
     "text": [
      "Welcome to Our Service\n",
      "\n",
      "1 : Sign Up\n",
      "2 : Sign In\n",
      "3 : Quit\n",
      "2\n",
      "아이디를 입력하세요 : hello\n",
      "비밀번호를 입력하세요 : 987\n",
      "Sorry, the entered password is not correct.\n",
      "비밀번호를 입력하세요 : 32\n",
      "Sorry, the entered password is not correct.\n",
      "비밀번호를 입력하세요 : 123\n",
      "Hello gihwan!\n",
      "Welcome to Our Service\n",
      "\n",
      "1 : Sign Up\n",
      "2 : Sign In\n",
      "3 : Quit\n",
      "2\n",
      "아이디를 입력하세요 : hi\n",
      "비밀번호를 입력하세요 : 12\n",
      "Sorry, the entered password is not correct.\n",
      "비밀번호를 입력하세요 : 1234\n",
      "Hello name!\n",
      "Welcome to Our Service\n",
      "\n",
      "1 : Sign Up\n",
      "2 : Sign In\n",
      "3 : Quit\n",
      "3\n"
     ]
    }
   ],
   "source": [
    "ser=getService()\n",
    "#3일때 종료\n",
    "while ser!=3:\n",
    "    doService(ser)\n",
    "    ser=getService()"
   ]
  },
  {
   "cell_type": "markdown",
   "id": "7d39062b",
   "metadata": {},
   "source": [
    "## <span style=\"color:#87CEEB\">과제 4.3</span>\n",
    "문제 : range() 함수와 유사한 frange() 함수를 다음 조건을 참고하여 만드시오.     \n",
    "<pre>&#176; 1) frange()의 인자 구성은 다음과 같이 range와 동일하지만 각 인수들은 음수를 받지 않는다고 가정한다.  \n",
    "        range(stop)\n",
    "        range(start, stop, [step])\n",
    "&#176; 2) frange() 함수의 인자에 대한 기본 시작(start) 값은 0.0이고, 기본 단계(step) 값은 0.1이다.  \n",
    "&#176; 3) frange 사용 예 \n",
    "        &starf; 3-1) frange(0.5) \n",
    "            &#10026; [0.0, 0.1, 0.2, 0.3, 0.4]\n",
    "        &starf; 3-2) frange(1.0, 2.0) \n",
    "            &#10026; [1.0, 1.1, 1.2, 1.3, 1.4, 1.5, 1.6, 1.7, 1.8, 1.9]\n",
    "        &starf; 3-3) frange(2.2, 4.0, 0.5) \n",
    "            &#10026; [2.2, 2.7, 3.2, 3.7]\n",
    "</pre>"
   ]
  },
  {
   "cell_type": "code",
   "execution_count": 6,
   "id": "89efd899",
   "metadata": {},
   "outputs": [],
   "source": [
    "# 부동소수를 정확하게 계산하기 위한 외부모듈\n",
    "import decimal\n",
    "def frange(start, stop = -1, step = 0.1):\n",
    "    #음수는 들어오지 않는다는 가정이 있음으로 숫자 하나만 들어오면 start는 0 stop은 입력 값으로 변경\n",
    "    if stop == -1: start,stop=0.0,start\n",
    "    #리스트 내포를 이용해 step 만큼 증가하는 리스트 반환 \n",
    "    return [float(decimal.Decimal(start)+x*decimal.Decimal(repr(step))) for x in range(int((stop-start)/step+1))if float(decimal.Decimal(start)+x*decimal.Decimal(repr(step)))<stop]"
   ]
  },
  {
   "cell_type": "code",
   "execution_count": 10,
   "id": "8f33f93c",
   "metadata": {},
   "outputs": [
    {
     "data": {
      "text/plain": [
       "[0.0, 0.1, 0.2, 0.3, 0.4]"
      ]
     },
     "execution_count": 10,
     "metadata": {},
     "output_type": "execute_result"
    }
   ],
   "source": [
    "frange(0.5)"
   ]
  },
  {
   "cell_type": "code",
   "execution_count": 11,
   "id": "75ac0ff3",
   "metadata": {},
   "outputs": [
    {
     "data": {
      "text/plain": [
       "[1.0, 1.1, 1.2, 1.3, 1.4, 1.5, 1.6, 1.7, 1.8, 1.9]"
      ]
     },
     "execution_count": 11,
     "metadata": {},
     "output_type": "execute_result"
    }
   ],
   "source": [
    "frange(1.0, 2.0) "
   ]
  },
  {
   "cell_type": "code",
   "execution_count": 12,
   "id": "7f5807c5",
   "metadata": {},
   "outputs": [
    {
     "data": {
      "text/plain": [
       "[2.2, 2.7, 3.2, 3.7]"
      ]
     },
     "execution_count": 12,
     "metadata": {},
     "output_type": "execute_result"
    }
   ],
   "source": [
    "frange(2.2, 4.0, 0.5) "
   ]
  },
  {
   "cell_type": "markdown",
   "id": "3f52791c",
   "metadata": {},
   "source": [
    "## <span style=\"color:#87CEEB\">과제 4.4</span>\n",
    "문제 : 가변인수를 받는 함수 sum()을 다음과 같은 조건을 참고하여 구현하시오   \n",
    "<pre>&#176; sum() 사용 예\n",
    "        sum()\n",
    "        0\n",
    "\n",
    "        sum(1, 2)\n",
    "        3\n",
    "\n",
    "        sum(1, 2, 3, 4, 5)\n",
    "        15\n",
    "\n",
    "        sum(1, 5, 7, 2, -10)\n",
    "        5  </pre>"
   ]
  },
  {
   "cell_type": "code",
   "execution_count": 55,
   "id": "d15c76d3",
   "metadata": {},
   "outputs": [],
   "source": [
    "#가변인수를 인자로 받음\n",
    "def sum(*agrs):\n",
    "    numSum = 0\n",
    "    #인수들을 합산\n",
    "    for i in agrs: numSum += i\n",
    "    #합산값 반환\n",
    "    return numSum"
   ]
  },
  {
   "cell_type": "code",
   "execution_count": 56,
   "id": "3ae07983",
   "metadata": {},
   "outputs": [
    {
     "name": "stdout",
     "output_type": "stream",
     "text": [
      "0\n",
      "3\n",
      "15\n",
      "5\n"
     ]
    }
   ],
   "source": [
    "print(sum())\n",
    "print(sum(1,2))\n",
    "print(sum(1,2,3,4,5))\n",
    "print(sum(1,5,7,2,-10))"
   ]
  },
  {
   "cell_type": "markdown",
   "id": "852fa388",
   "metadata": {},
   "source": [
    "## <span style=\"color:#87CEEB\">과제 4.5</span>\n",
    "문제 : 여러 단어로 이루어진 문자열을 입력받아 각 단어의 첫글자로 이루어진 단어를 대문자로 출력하는 myinitial() 함수를 다음 조건을 참고하여 작성하시오.   \n",
    "<pre>&#176; 1) 다음에 제시되는 함수들을 모두 이용해야 한다.\n",
    "     &starf; split\n",
    "     &starf; map\n",
    "     &starf; join\n",
    "&#176; 2) myinitial() 함수 사용 예\n",
    "     &starf; myinitial(\"as soon as possible\")\n",
    "         &#10026; ASAP\n",
    "</pre>"
   ]
  },
  {
   "cell_type": "code",
   "execution_count": 71,
   "id": "492c5db2",
   "metadata": {},
   "outputs": [
    {
     "data": {
      "text/plain": [
       "'ASAP'"
      ]
     },
     "execution_count": 71,
     "metadata": {},
     "output_type": "execute_result"
    }
   ],
   "source": [
    "def myinitial(s):\n",
    "    #문자열을 받아 split으로 나누고 람다함수로 나눈 문자열 1번째 글자를 받아 대문자로 변경후 join으로 변경한 것을 문자열로 합침 \n",
    "    return \"\".join(list(map(lambda x:x[:1].upper(),s.split(\" \"))))\n",
    "myinitial(\"as soon as possible\")"
   ]
  },
  {
   "cell_type": "markdown",
   "id": "f7b4e351",
   "metadata": {},
   "source": [
    "## <span style=\"color:#87CEEB\">과제 4.6</span>\n",
    "문제 : 음이 아닌 정수 n를 입력받으면 n! (factorial)을 계산하는 myfact() 함수를 재귀적 함수로 구현하시오.   \n",
    "<pre>&#176; [옵션] 참을 수 있는 정도 만큼의 수행시간을 직접 기다려보면서 n을 늘려보도록 합시다.</pre>"
   ]
  },
  {
   "cell_type": "code",
   "execution_count": 2,
   "id": "8b8f2954",
   "metadata": {},
   "outputs": [
    {
     "name": "stdout",
     "output_type": "stream",
     "text": [
      "505952377564956574235399487483041822888119906495646428420108128343971780124357271627183187181901985489257810723352466337235751018907859251483748076712221335242456072511956620861657068464658696977275319548308128323491783917474904823913336186702557231203052281424187828395416859857650094981705373496768015046695461677805249020166776518284295970082765903694461122649954549098532765643831376261157499518461143563135097922059297592457480472528808956521277781996009697748813767752317901993583593064711390389256539592213382336750436174727185984611760421291141324911097267225552199730476774453050697842602214070935344031411264401893900574346899099074352438646458875367356096148179163702062404569627599604398082394992936879385517649368601293248572380303208752748532898279993016519568119152122997226350756743992971418437596814731963479245017081663815882070810350128181274021195041969125382972166350502231430456320751213523019414063808516433867248249458204960649567320833484525228075044368117053546317603246367348305223651166741619208572954894754963564906549900945718620560144664619176792361928902055495486766678111048939613458737412922392294514406609754352193128612689646312984389391384542004936977915717862835284618842815353884331578173485518049245163406721754394757532153630949794490352956706658643356384827761671051127033493861835851858266803047303528721645085359830071308178059987895159485448770011421607061291723072538712061663843713634472913489277136293532711346437784150028750732691015545860917019871467854175069186555128848527975507743980014621065347175998899503889555524246048425283036762865132185738163019720604486888790649229080920897997356932714808171903128984446953736128013641915138607295668586443278128585861795381105865300374543687713038363463734625326242378569900174429119032387561641410316557859320181006422069507062358883630822542555165462364329302020473271497387715792071820765665790638352153555764538517631260623412723313093124092432789491632554073948827390735545716441923238289865340885387413615546454862536340143133279001626002846851251985749608403099376032761637880189487407395316371555518384151347805569454991207771447814049085283309396973938146616587548492080685353361421300685402925961961594457843812808323627052444494531230842541527876374091449199498505040454348872835833672606472991662324687936591415102700920099451882798533790160819905229463966579386064091196159794033606595148486318974279886252625281882417946278062935437494064201030712069959884123056091383908894582389150116181563280017248260639726389219082618229436407923655677520787696484231955335749934869835829529232873565123341894383043689415677290245298872397296236062684486528804501714047715809281111825145284594085527682612469161079097724306324717717370616852498132614961555068777564065642212901785044040759229586430531033571738833642484102909150553156027449172810226051647526127119143506842908589132811939877335365609394825488767298324967689803294237085972150685775692210531284369176050389712589027201065029068982183877762434780175410176411293776022903071007023268833118929966361919876102344186026867789948320263121167877330315760562199392980017581153413893390806854924128901636586801254240778519544856193062608281831069246248690202744846293153414312300720120488144461290066803974638049281133970882034227745035365268761916176529984894968882158839745651008741895339444483102420184236636656503952076535669164343850080510907764043670290796001080548105515761735330566670042746571098546589282620109426209884181482355186402707898206641430425001620671967112727455983421839234154954288153498865505042532193748772902749650088676740366711134605696859906919405304391865790833479216987711960824939008151644804857062230211669069733854091647246315171830638665160173141295848165892546880585459436607927176474071620899667956618334059746950873938562409188599241938567067170692849335683578966128411131236518266361726453493044283429562907397961739920262899101091557097458225429801892281994203718754852487125577824395869704288849547013579105355501910384793072992984186683937908935816601954766367685950245149761678601855600240560451474616640462771914114328102885542174972636486024811157948367110693824340795404853680662792040710852726375081527919472495980882595698444686925765216736741417065761432093611761958622217033877441500445781888826033981568474678352598856427653847134498181718363645160970117611198237806641968770399090817865908899097634156897883286063770636278923699777992330368066454906593057270525484589748275601744312937497807614063496206864488956347571208678713857351251986907901301155119653872991190512442242526972487566285913946822301636688681655324235085482760023655672140754322321687858963519125110309264260832864639362761076410076399273686859052245563539008740456478742972074915912598042429112715276797080483484822698765501490430410978494396869083392852410845191024762745118937835484291069818760572045299004832186854889093147675598707363973119450033863038330685809160394058978787332058962616408131153575731817837715853975139168133864169744811491217996493870236325772162182489527457900879728203741482655364355939821462687169262142215976857618362012820567379046490311453885812795002452094207230799870176163322437919683639287666135370401815833833114157811898800783684850036382330136730920295573939818328117306643485779261792831821615739553610107679284541695364939657683746178542760118788613838308936469819427291942011685629577480903614801233083214880029478804996040922186274075836756880804024306078751473402908273251646747992644309725929690164954923031579740513944424076760724123662993821684545937599720064648741572624012685336283652494850265165491710714116374718489034729818280389918959040385125552773949761595076511255097735742149514700239890510147693892465104050405925290340225256290247354872111938446371065651977972020396615781202590783439160203919245603491084569341628299982296116764683113780777390921400474959343950454243439772316470197613709313374203286255015141696789916941932106840344433822594804423071598055281167282171780011466022383650523904986419378845041609455851735293524289387419978210692206302846111773391488175884121102570766897002872703145900033371681393798014544425397255200765468172768570535980920261758464497062501938150472688373769489767558588943257503967378934038491593905386896680129514085292610357934575551496717705414023438716150545440995752904251918923448418223156270058694405255050170867464300372799423619454006883636624680995003769658469030613696236936432069590913382591773157686138328499407784406427308805760759216414925733287713963049493696399382385752236778315567618527900838466462251053761666931318703304661654026328368628876754259925621774699287851246861910845584625608916871935351626827663388730660445798602673640720613960683859065468530587682219591775317089012936269062742766542323135936800322925330833758684418563126325826007396617007834217576725275993610108562544798619626536400277088314201459204383823376559943634430809754806647054466439571225841739621532058941853482752809345093162308901404855233474085243121022418317848999217370129424792306080763705958365013033311530366136930553424436332618971344403186596683093976160965358502597713321038168748925230956815570105995634684054037999913797591638272704582788809169713089976586905012505250924187891686723238511522302073579758158912744029159463165911781806567781258042549923403774721567302720941897494341666584621373121753575105984289757730937867014241826012173778451101146637465044455471909853246060847358204554009205055968763184964159539920129319487624308928830155282689112619749820454152892727555967564143362354220295682215993530992721667609801435444589589598847755289197930460551226323858814103011419655108254159920621031411833690169900373926961071064012696440626630653113890239678769466209364900318934579927782472728196734195503919675356415269316704586534036749990612630025583699768295835742208376937327058309669264558472243712025144898820706116786736088328767049707940907607077728112791287799898737446268042773013232285623381907584849757921426968276132505010829220774454431445160714392448234608332463967141786186867411318473367495692266264774383213263461870491802448140275996364999495942699301677345564954135247466914996254290661281441421798303037648923046578424982193421649853808640000000000000000000000000000000000000000000000000000000000000000000000000000000000000000000000000000000000000000000000000000000000000000000000000000000000000000000000000000000000000000000000000000000000000000000000000000000000000000000000000000000000000000000000000000000000000000000000000000000000000000000000000000000000000000000000000000000000000000000000000000000000000000000000000000000000000000000000000000000000000000000000000000000000000000000000000000000000000000000000000000000000000000000000000000000000000000000000000000000000000000000000000000000000000000000000000000000000000000000000000000000000000000000000000000000000000000000000000000000000000000000000000000000000000000000000000000000000000000000000000000000000000000\n"
     ]
    }
   ],
   "source": [
    "def myfact(n):\n",
    "    # n이 1일 때 1 반환 \n",
    "    if n == 1: return 1\n",
    "    #1 작은값을 인자로 주고 재귀호출 \n",
    "    return n * myfact(n - 1)\n",
    "#2958 이상이면 maximum recursion depth exceeded in comparison에러 발생 \n",
    "print(myfact(2958))"
   ]
  },
  {
   "cell_type": "markdown",
   "id": "ca9c2c0a",
   "metadata": {},
   "source": [
    "## <span style=\"color:#87CEEB\">과제 4.7</span>\n",
    "문제 : (서술형) import string 과 from string import * 의 차이점을 설명하시오."
   ]
  },
  {
   "cell_type": "markdown",
   "id": "366c0a69",
   "metadata": {},
   "source": [
    "답 : import만 사용하면 모듈 안의 함수를 사용할 때, 모듈명.함수명( )으로 하고, from을 사용하면 바로 함수명( )으로 사용가능 아래 예시"
   ]
  },
  {
   "cell_type": "code",
   "execution_count": 115,
   "id": "c90d4e91",
   "metadata": {},
   "outputs": [],
   "source": [
    "import sys"
   ]
  },
  {
   "cell_type": "code",
   "execution_count": 116,
   "id": "200b86f0",
   "metadata": {},
   "outputs": [
    {
     "data": {
      "text/plain": [
       "['/Users/jang-gihwan/Desktop/git_python/2018136109_장기환_과제4',\n",
       " '/Users/jang-gihwan/Applications/anaconda3/lib/python38.zip',\n",
       " '/Users/jang-gihwan/Applications/anaconda3/lib/python3.8',\n",
       " '/Users/jang-gihwan/Applications/anaconda3/lib/python3.8/lib-dynload',\n",
       " '',\n",
       " '/Users/jang-gihwan/Applications/anaconda3/lib/python3.8/site-packages',\n",
       " '/Users/jang-gihwan/Applications/anaconda3/lib/python3.8/site-packages/aeosa',\n",
       " '/Users/jang-gihwan/Applications/anaconda3/lib/python3.8/site-packages/locket-0.2.1-py3.8.egg',\n",
       " '/Users/jang-gihwan/Applications/anaconda3/lib/python3.8/site-packages/IPython/extensions',\n",
       " '/Users/jang-gihwan/.ipython']"
      ]
     },
     "execution_count": 116,
     "metadata": {},
     "output_type": "execute_result"
    }
   ],
   "source": [
    "#앞에 모듈명 있음 -> 실행가능\n",
    "sys.path"
   ]
  },
  {
   "cell_type": "code",
   "execution_count": 117,
   "id": "4fb438e6",
   "metadata": {},
   "outputs": [
    {
     "ename": "NameError",
     "evalue": "name 'path' is not defined",
     "output_type": "error",
     "traceback": [
      "\u001b[0;31m---------------------------------------------------------------------------\u001b[0m",
      "\u001b[0;31mNameError\u001b[0m                                 Traceback (most recent call last)",
      "\u001b[0;32m<ipython-input-117-012ab3a6b187>\u001b[0m in \u001b[0;36m<module>\u001b[0;34m\u001b[0m\n\u001b[0;32m----> 1\u001b[0;31m \u001b[0mpath\u001b[0m\u001b[0;34m\u001b[0m\u001b[0;34m\u001b[0m\u001b[0m\n\u001b[0m",
      "\u001b[0;31mNameError\u001b[0m: name 'path' is not defined"
     ]
    }
   ],
   "source": [
    "#앞에 모듈명 없음 -> 실행 불가능\n",
    "path"
   ]
  },
  {
   "cell_type": "code",
   "execution_count": 118,
   "id": "f3949caf",
   "metadata": {},
   "outputs": [],
   "source": [
    "from sys import *"
   ]
  },
  {
   "cell_type": "code",
   "execution_count": 119,
   "id": "65ed7721",
   "metadata": {},
   "outputs": [
    {
     "data": {
      "text/plain": [
       "['/Users/jang-gihwan/Desktop/git_python/2018136109_장기환_과제4',\n",
       " '/Users/jang-gihwan/Applications/anaconda3/lib/python38.zip',\n",
       " '/Users/jang-gihwan/Applications/anaconda3/lib/python3.8',\n",
       " '/Users/jang-gihwan/Applications/anaconda3/lib/python3.8/lib-dynload',\n",
       " '',\n",
       " '/Users/jang-gihwan/Applications/anaconda3/lib/python3.8/site-packages',\n",
       " '/Users/jang-gihwan/Applications/anaconda3/lib/python3.8/site-packages/aeosa',\n",
       " '/Users/jang-gihwan/Applications/anaconda3/lib/python3.8/site-packages/locket-0.2.1-py3.8.egg',\n",
       " '/Users/jang-gihwan/Applications/anaconda3/lib/python3.8/site-packages/IPython/extensions',\n",
       " '/Users/jang-gihwan/.ipython']"
      ]
     },
     "execution_count": 119,
     "metadata": {},
     "output_type": "execute_result"
    }
   ],
   "source": [
    "#앞에 모듈명 없음 -> 실행 가능\n",
    "path"
   ]
  },
  {
   "cell_type": "markdown",
   "id": "a93254f4",
   "metadata": {},
   "source": [
    "## <span style=\"color:#778899\">[Incremental Project 문제]</span>  "
   ]
  },
  {
   "cell_type": "markdown",
   "id": "3c896c1e",
   "metadata": {},
   "source": [
    "## <span style=\"color:#87CEEB\">과제 4.8</span>\n",
    "<문제>  \n",
    "이전 Assignment 3의 마지막 문제는 웹 URL로 지정된 웹페이지를 문자열로 가져와 모든 HTML 태그 및 CSS와 Javascript를 제외한 순수 텍스트를 얻어내고 그 안에 존재하는 단어를 추출하여 각 단어들에 대해 출현빈도를 사전형태({'world': 2, 'hello': 1, 'python': 1})로 저장하여 출력하는 것이었다. 이번에는 Assignment 3를 확장하여 다음과 같은 조건을 만족하도록 구현하시오.\n",
    "<pre>&#176; 1) 다음 사이트에서 제시되는 불용어 (Stop words)를 참고하여 이전 숙제에서 구성했던 단어 사전에서 불용어들을 모두 제거하는 코드를 추가하시오.\n",
    "    &starf; 영어 불용어: http://www.lextek.com/manuals/onix/stopwords1.html\n",
    "    &starf; 한글 불용어: https://raw.githubusercontent.com/stopwords-iso/stopwords-ko/master/stopwords-ko.txt\n",
    "&#176; 2) 각 URL로 지정된 웹페이지의 HTML 소스를 파일로 저장하시오.\n",
    "    &starf; URL이 http://URL 이라면 파일명은 URL.html 이다.\n",
    "        &#10026; 예: URL이 http://www.cnn.com 이라면 파일명은 www.cnn.com.html 이다.\n",
    "&#176; 3) 단어의 출현빈도가 담긴 사전 객체를 위 HTML 소스 파일과 동일한 폴더에 파일로 저장하시오.\n",
    "    &starf; 파일입출력 (E-learning 13주차) 마지막에 학습한 pickle 모듈을 활용하시오.\n",
    "    &starf; URL이 http://URL 이라면 사전 객체를 담고 있는 파일명은 URL.words_frequency.pickle 이다.\n",
    "        &#10026; 예: URL이 http://www.cnn.com 이라면 파일명은 www.cnn.com.words_frequency.pickle 이다.\n",
    "&#176; 4) 최소 5개 이상의 웹 사이트 각각에 대한 HTML 소스 파일과 단어 출현빈도 파일을 저장하시오.\n",
    "    &starf; 즉, 5개의 웹 사이트에 대해 총 10개의 파일을 동일한 폴더에 생성하시오.\n",
    "    &starf; [주의] 가능하면 웹사이트에 단어들이 많고 다루는 주제가 서로 다른 웹 사이트들로 선정하는 것 추천\n",
    "&#176; 5) 위 문제에서 저장한 모든 pickle 파일들을 객체로 다시 로드하여 본인이 저장하여 분석한 사이트들 각각에 대해서 가장 많이 출현한 단어 3개씩를 뽑아 제시하시오.\n",
    "    &starf; 반드시 pickle 모듈로 저장한 5개 이상의 pickle 파일들을 다시 5개 이상의 사전 객체로 로드 하는 코드가 추가되어야 함\n",
    "&#176; 6) 간단한 검색엔진 코딩 (Like Google!!!)\n",
    "    &starf; 사용자에게 임의의 검색어 (하나 또는 여러 단어로 구성) 를 입력받으시오.\n",
    "        &#10026; 대한민국\n",
    "        &#10026; 컴퓨터 공학\n",
    "        &#10026; 맛있는 음식\n",
    "        &#10026; 파이썬\n",
    "        &#10026; 한기대 장점\n",
    "    &starf; 입력받은 검색어들에 대해서도 1)에서 제시하는 방법처럼 불용어 처리를 하여 정리\n",
    "    &starf; 입력 받은 검색어와 유사도(Similarity)가 높은 웹 사이트 기준으로 위 4)에서 미리 지정해 놓은 5개 이상의 웹 사이트 URL들을 일렬로 나열하여 출력하시오.\n",
    "        &#10026; 검색어와 웹 사이트 간의 유사도는 본인이 스스로 정하시오.\n",
    "        &#10026; 유사도를 정하는 최소한의 기준은 단어 출현 빈도를 기반으로 해야 하며, 이외의 본인이 생각하는 방안이 있으면 함께 사용해도 됨.\n",
    "        &#10026; 유사도가 높은 웹 사이트가 상위에 출력되어야 함 (즉, 유사도 기준 내림 차순)\n",
    "        &#10026; 유사도가 동일한 웹 사이트들에 대해서는 임의 배치함.\n",
    "&#176; 7) [주의] 필수사항\n",
    "    &starf; 위에서 만든 검색엔진 코딩은 매우 간단한 것이라 부족한 점이 많이 존재한다.\n",
    "    &starf; 본인이 생각하기에 상업적인 완성도 높은 검색 로봇/엔진이 되려면 어떤 기능들이 추가적으로 구현되어야 할지 최소 1가지 이상 제시하시오.\n",
    "</pre>"
   ]
  },
  {
   "cell_type": "code",
   "execution_count": 1,
   "id": "cb73958e",
   "metadata": {},
   "outputs": [],
   "source": [
    "import requests\n",
    "import re\n",
    "import html\n",
    "import string\n",
    "import pickle\n",
    "#한글 불용어, 영어 불용어 URL\n",
    "req_stopwords = requests.get('https://raw.githubusercontent.com/stopwords-iso/stopwords-ko/master/stopwords-ko.txt')\n",
    "req_stopwords2 = requests.get(\"https://gist.githubusercontent.com/sebleier/554280/raw/7e0e4a1ce04c2bb7bd41089c9821dbcf6d0c786c/NLTK's%2520list%2520of%2520english%2520stopwords\")\n",
    "source_stopwords = req_stopwords.text\n",
    "source_stopwords2 = req_stopwords2.text\n",
    "\n",
    "URL=['http://cse.koreatech.ac.kr','https://www.nate.com','http://www.naver.com','http://www.google.com','http://www.nytimes.com','https://www.10000recipe.com/recipe/list.html?q=쉬운요리']\n",
    "#URL로 받은 불용어를 txt로 만들고 이를 사용해 리스트를 생성 \n",
    "with open(\"stopwords.txt\", \"w\") as f:\n",
    "    f.write(\"%s\" % (source_stopwords))\n",
    "    f.write(\"%s\" % (source_stopwords2))\n",
    "with open(\"stopwords.txt\", \"r\", encoding='utf-8') as f:\n",
    "    stopwords=[line.strip() for line in f]"
   ]
  },
  {
   "cell_type": "code",
   "execution_count": 2,
   "id": "29fe46a5",
   "metadata": {},
   "outputs": [],
   "source": [
    "#HTML 파일 생성 및 pickle로 객체 저장\n",
    "def saveHTML(url):\n",
    "    with open(\"%s.html\" % url.split('//')[1].replace('/', '_'), \"w\", encoding='utf-8') as f:\n",
    "        f.write(requests.get(url).text)\n",
    "    with open(\"%s.words_frequency.pickle\" % url.split('//')[1].replace('/', '_'), \"wb\") as f:\n",
    "        pickle.dump(countWords(requests.get(url).text), f)"
   ]
  },
  {
   "cell_type": "code",
   "execution_count": 3,
   "id": "b5e48f6e",
   "metadata": {},
   "outputs": [],
   "source": [
    "#객체 로드후 리스트화후 단어수로 정렬하여 3개 출력 \n",
    "def loadPickle(url,i):\n",
    "    with open (\"%s.words_frequency.pickle\" % url.split('//')[1].replace('/', '_'),\"rb\") as f:\n",
    "        keywords = list(pickle.load(f).items())\n",
    "        keywords.sort(key=lambda k: k[1], reverse=True)\n",
    "        #print(keywords)#디버깅용 \n",
    "        if i == 0:\n",
    "            print(\"%s 에서 가장 많이 출현한 단어 3개 :\" % url)\n",
    "            for i in range(3):\n",
    "                print(\"(%s : %d번)\\n\" % (keywords[i][0], keywords[i][1]))\n",
    "        else: return keywords"
   ]
  },
  {
   "cell_type": "code",
   "execution_count": 4,
   "id": "27106d39",
   "metadata": {},
   "outputs": [],
   "source": [
    "#특수 문자,불용어 제거\n",
    "def wordsFilter(words):\n",
    "    words = [i for i in words if (i not in string.punctuation) and (i.lower() not in stopwords)]\n",
    "    return words"
   ]
  },
  {
   "cell_type": "code",
   "execution_count": 5,
   "id": "9daf1c4a",
   "metadata": {},
   "outputs": [],
   "source": [
    "# 검색단어를 배열을 입력 받아 각 HTML의 키워드와 비교 후 입력 단어 대비 일치키워드 퍼센테이지로 유사도 도출 \n",
    "def similarity(words):\n",
    "    counts=[]\n",
    "    for i in URL:\n",
    "        count = 0\n",
    "        sumWords = 0\n",
    "        compareWords = loadPickle(i,1)\n",
    "        for cword in compareWords:\n",
    "            for word in words:\n",
    "                if word.lower()==cword[0].lower(): count += cword[1]\n",
    "                sumWords += cword[1]\n",
    "        #유사도 도출법 :  (HTML에 속해있는 검색 단어의 갯수 * 100/HTML에 속해있는 단어 수) ->불용어 제외\n",
    "        counts.append((i,(count*100)/sumWords))\n",
    "    return counts"
   ]
  },
  {
   "cell_type": "code",
   "execution_count": 6,
   "id": "f7b9c7e5",
   "metadata": {},
   "outputs": [],
   "source": [
    "#단어 중복 제거\n",
    "def numWord(words):\n",
    "    a=[]\n",
    "    for i in words:\n",
    "        if(not i in a):\n",
    "            a.append(i)\n",
    "    return a"
   ]
  },
  {
   "cell_type": "code",
   "execution_count": 7,
   "id": "78c20c4d",
   "metadata": {},
   "outputs": [],
   "source": [
    "#단어 중복 갯수 카운트\n",
    "def count(word1,word2):\n",
    "    a=[]\n",
    "    for i in word1:\n",
    "        count=0\n",
    "        for j in word2:\n",
    "            if i==j:\n",
    "                count+=1\n",
    "        a.append(count)\n",
    "    return a"
   ]
  },
  {
   "cell_type": "code",
   "execution_count": 8,
   "id": "3dfd7d64",
   "metadata": {},
   "outputs": [],
   "source": [
    "def countWords(source):\n",
    "    #모든 줄바꿈을 여백으로 대체\n",
    "    source = re.sub(r'\\n', ' ', source)\n",
    "    #script와 style 제거\n",
    "    source = re.sub(r'<(script|style).*?</\\1>', '', source)\n",
    "    #html 주석 제거\n",
    "    source = re.sub(r'<!(--)?.*?-->', '', source)\n",
    "    #HTML에서 모든 태그 제거\n",
    "    source = re.sub(r'</?.*?>', '', source)\n",
    "    words=[]   \n",
    "    #html의 이스케이프 문자를 문자로 변환\n",
    "    source=html.unescape(source)\n",
    "    #공백을 기준으로 리스트화\n",
    "    words=source.split()\n",
    "    words=wordsFilter(words)\n",
    "    word1=numWord(words)\n",
    "    word2=count(word1,words)\n",
    "    \n",
    "    dictionary = dict(zip(word1, word2))\n",
    "    return dictionary"
   ]
  },
  {
   "cell_type": "code",
   "execution_count": 9,
   "id": "42b434ba",
   "metadata": {},
   "outputs": [],
   "source": [
    "def such():\n",
    "    suchKey = input(\"입력하시오 : \")\n",
    "    while len(suchKey)==0:suchKey = input(\"입력하시오 : \")\n",
    "    suchKey = suchKey.split()\n",
    "    #불용어 제거\n",
    "    suchKey = wordsFilter(suchKey)\n",
    "    ranking=similarity(suchKey)\n",
    "    ranking.sort(key=lambda k: k[1], reverse=True)\n",
    "    for rank in ranking:\n",
    "        print(\"%s : 검색 결과 '%s' 와(과)의 유사도 %f%c \\n\"%(rank[0],\"\".join(suchKey),rank[1],'%'))"
   ]
  },
  {
   "cell_type": "code",
   "execution_count": 10,
   "id": "2efada2d",
   "metadata": {},
   "outputs": [
    {
     "name": "stdout",
     "output_type": "stream",
     "text": [
      "http://cse.koreatech.ac.kr 에서 가장 많이 출현한 단어 3개 :\n",
      "(Error : 1번)\n",
      "\n",
      "(Page : 1번)\n",
      "\n",
      "(404 : 1번)\n",
      "\n",
      "https://www.nate.com 에서 가장 많이 출현한 단어 3개 :\n",
      "(댓글 : 20번)\n",
      "\n",
      "(쇼핑 : 5번)\n",
      "\n",
      "(네이트 : 5번)\n",
      "\n",
      "http://www.naver.com 에서 가장 많이 출현한 단어 3개 :\n",
      "(전 : 71번)\n",
      "\n",
      "(건강 : 66번)\n",
      "\n",
      "(수 : 39번)\n",
      "\n",
      "http://www.google.com 에서 가장 많이 출현한 단어 3개 :\n",
      "(Google검색 : 1번)\n",
      "\n",
      "(이미지 : 1번)\n",
      "\n",
      "(지도 : 1번)\n",
      "\n",
      "http://www.nytimes.com 에서 가장 많이 출현한 단어 3개 :\n",
      "(New : 27번)\n",
      "\n",
      "(York : 26번)\n",
      "\n",
      "(Times : 15번)\n",
      "\n",
      "https://www.10000recipe.com/recipe/list.html?q=쉬운요리 에서 가장 많이 출현한 단어 3개 :\n",
      "(조회수 : 40번)\n",
      "\n",
      "(쉬운 : 19번)\n",
      "\n",
      "(프리미엄 : 12번)\n",
      "\n"
     ]
    }
   ],
   "source": [
    "for i in URL:\n",
    "    saveHTML(i)\n",
    "    loadPickle(i,0)"
   ]
  },
  {
   "cell_type": "code",
   "execution_count": 12,
   "id": "b8ee7c92",
   "metadata": {},
   "outputs": [
    {
     "name": "stdout",
     "output_type": "stream",
     "text": [
      "입력하시오 : 이미지 검색 하는 법\n",
      "http://www.google.com : 검색 결과 '이미지검색하는법' 와(과)의 유사도 1.250000% \n",
      "\n",
      "http://www.naver.com : 검색 결과 '이미지검색하는법' 와(과)의 유사도 0.107143% \n",
      "\n",
      "https://www.nate.com : 검색 결과 '이미지검색하는법' 와(과)의 유사도 0.060976% \n",
      "\n",
      "https://www.10000recipe.com/recipe/list.html?q=쉬운요리 : 검색 결과 '이미지검색하는법' 와(과)의 유사도 0.035868% \n",
      "\n",
      "http://cse.koreatech.ac.kr : 검색 결과 '이미지검색하는법' 와(과)의 유사도 0.000000% \n",
      "\n",
      "http://www.nytimes.com : 검색 결과 '이미지검색하는법' 와(과)의 유사도 0.000000% \n",
      "\n"
     ]
    }
   ],
   "source": [
    "such()"
   ]
  },
  {
   "cell_type": "markdown",
   "id": "c342f43d",
   "metadata": {},
   "source": [
    "<span style=\"color:#778899\">< 개선해야 할 점 ></span>  "
   ]
  },
  {
   "cell_type": "markdown",
   "id": "634a6103",
   "metadata": {},
   "source": [
    "- 위의 유사도는 입력 문자열의 단어 빈도 및 존재 여부 만으로 유사도를 계산하기 때문에 부정확 하다.  \n",
    "그러므로 효과적인 유사도 계산 알고리즈을 사용하거나 추가 데이트를 기반으로 학습한 AI를 이용하는 등의 개선이 필요해 보인다.\n",
    "- 위의 코드를 실행해보면 1~2초 정도 소요되는 것을 볼 수 있었다.  \n",
    "그러나 실제 웹에서 검색을 해보면 초단위를 소비하지 않고 검색결과를 띄워준다.  \n",
    "그러므로 파일을 읽어와 저장하고 다시 문자열로 변환해 계산하는 등의 알고리즘이 아닌 다른 효율적인 방법을 사용해야 할 것으로 보인다.\n",
    "- 현재는 저장해 놓은 몇가지의 웹 만으로 검색이 가능하므로 가지고 있는 웹의 유사도만 보여줄 수 있다.  \n",
    "하지만 대부분의 경우 저장해 놓은 몇 가지의 웹이 아닌 모든 웹에서 검색해야 할 경우가 대부분이라 생각 되고 이 부분이 개선 되어야 할 것으로 보인다."
   ]
  },
  {
   "cell_type": "markdown",
   "id": "98d38825",
   "metadata": {},
   "source": [
    "## <span style=\"color:#778899\">< 소감 ></span>  "
   ]
  },
  {
   "cell_type": "markdown",
   "id": "2af539f1",
   "metadata": {},
   "source": [
    "- 이번 과제는 저번의 과제들 보다 높은 난이도를 보였다.  \n",
    "특히 frange의 경우 몇줄 되지도 않는데 나에게 많은 생각을 하게 해 주었다.  \n",
    "덕분에 부동소수의 계산에 대해 많은 공부를 할 수 있었고 해결방안 또한 숙지 할 수 있었다.  \n",
    "또한 약식이지만 검색엔진이 틀을 갖춘것 같아 뿌듯했다.  "
   ]
  }
 ],
 "metadata": {
  "kernelspec": {
   "display_name": "Python 3",
   "language": "python",
   "name": "python3"
  },
  "language_info": {
   "codemirror_mode": {
    "name": "ipython",
    "version": 3
   },
   "file_extension": ".py",
   "mimetype": "text/x-python",
   "name": "python",
   "nbconvert_exporter": "python",
   "pygments_lexer": "ipython3",
   "version": "3.8.8"
  }
 },
 "nbformat": 4,
 "nbformat_minor": 5
}
