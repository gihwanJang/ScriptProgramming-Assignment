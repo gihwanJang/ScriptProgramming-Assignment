{
 "cells": [
  {
   "cell_type": "markdown",
   "id": "61b4449d",
   "metadata": {},
   "source": [
    "# <span style=\"color:red\">Assignment 1</span>  \n",
    "  \n",
    "- 과목  : 스크립트 프로그래밍  \n",
    "- 작성자 : 장기환  \n",
    "- 내용 : 과제 1  "
   ]
  },
  {
   "cell_type": "markdown",
   "id": "ba5ec554",
   "metadata": {},
   "source": [
    "## <span style=\"color:blue\">과제 1.1</span>\n",
    "    문제 : a=\"Hello Python\" 문자열을 Slicing과 연결 연산자 (+)를 사용하여 \"Python Hello\"로 변경하시오.  \n",
    "        ([주의] a 변수 자체에 \"Python Hello\" 문자열이 저장되어야 함)"
   ]
  },
  {
   "cell_type": "code",
   "execution_count": 109,
   "id": "7afcfb1f",
   "metadata": {},
   "outputs": [
    {
     "name": "stdout",
     "output_type": "stream",
     "text": [
      "Python Hello\n"
     ]
    }
   ],
   "source": [
    "a=\"Hello Python\"\n",
    "#a에 Slicing과 \"+\"연사자를 사용하여 \"Python Hello\"로 변경 \n",
    "a=a[6:12]+a[5]+a[0:5]\n",
    "print(a)"
   ]
  },
  {
   "cell_type": "markdown",
   "id": "1db4e428",
   "metadata": {},
   "source": [
    "## <span style=\"color:blue\">과제 1.2</span>  \n",
    "    문제 : b=\"Hello Python World\" 문자열을 Slicing과 연결 연산자 (+)를 사용하여 \"World Python Hello\"로 변경하시오.  \n",
    "        ([주의] b 변수 자체에 \"World Python Hello\" 문자열이 저장되어야 함)"
   ]
  },
  {
   "cell_type": "code",
   "execution_count": 110,
   "id": "6cc34046",
   "metadata": {},
   "outputs": [
    {
     "name": "stdout",
     "output_type": "stream",
     "text": [
      "World Python Hello\n"
     ]
    }
   ],
   "source": [
    "b=\"Hello Python World\"\n",
    "#b를 Slicing과 (+)연산자를 사용하여 \"World Python Hello\"로 변경\n",
    "b=b[13:18]+b[12]+b[6:12]+b[5]+b[0:5]\n",
    "print(b)"
   ]
  },
  {
   "cell_type": "markdown",
   "id": "29883cba",
   "metadata": {},
   "source": [
    "## <span style=\"color:blue\">과제 1.3</span>  \n",
    "    문제 : c=\"Hello\"를 \"olleH\"로 변경하시오  \n",
    "        ([주의] c 변수 자체에 \"olleH\" 문자열이 저장되어야 함)"
   ]
  },
  {
   "cell_type": "code",
   "execution_count": 111,
   "id": "4f50f66c",
   "metadata": {},
   "outputs": [
    {
     "name": "stdout",
     "output_type": "stream",
     "text": [
      "olleH\n"
     ]
    }
   ],
   "source": [
    "c=\"Hello\"\n",
    "c=c[::-1]\n",
    "print(c)"
   ]
  },
  {
   "cell_type": "markdown",
   "id": "b134b8bd",
   "metadata": {},
   "source": [
    "## <span style=\"color:blue\">과제 1.4</span>  \n",
    "    문제 : s=\"python\"에 대해 다음 문제를 풀어보시오.  \n",
    "        A . s[0], s[0][0], s[0][0][0]은 각각 어떤 값이 나오는지 확인하고 그 이유를 나름대로 설명해 보시오.  \n",
    "        B. s[-100], s[100]은 값이 나오는지 에러가 나오는지 확인하고 그 결과에 대한 이유를 나름대로 설명해 보시오.  \n",
    "        C. s[-100, 100]은 값이 나오는지 에러가 나오는지 확인하고 그 결과에 대한 이유를 나름대로 설명해 보시오.  \n",
    "        D. s[1:-1]의 결과를 확인하고 그 결과에 대한 이유를 정확하게 설명하시오.  \n",
    "        E. s[3:-3]의 결과를 확인하고 그 결과에 대한 이유를 정확하게 설명하시오.  "
   ]
  },
  {
   "cell_type": "code",
   "execution_count": 112,
   "id": "ef119313",
   "metadata": {},
   "outputs": [],
   "source": [
    "s=\"python\""
   ]
  },
  {
   "cell_type": "markdown",
   "id": "4efc9f9f",
   "metadata": {},
   "source": [
    "   * A.  \n",
    "        * s[0]의 경우 문자열의 인덱스가 0인 값을 의미하고 값은 p가 출력이 되고  \n",
    "        * s[0][0]의 경우 리스트의 인덱스 0인 곳에는 \"python\"문자열이 저장되있고 이 \"python\"문자열의 인덱스 0인 값 p가 출력이 되고  \n",
    "        * s[0][0][0]도 마찬 가지로 리스트의 인덱스 0인 곳에는 \"python\"이 저장되어 있는 리스트의 주소가 저장되있고 해당 리스트의 0인 곳에는 \"python\"문자열이 저장되있고 이 \"python\"문자열의 인덱스 0인 값 p가 출력이 될것입니다."
   ]
  },
  {
   "cell_type": "code",
   "execution_count": 113,
   "id": "504f0e25",
   "metadata": {},
   "outputs": [
    {
     "name": "stdout",
     "output_type": "stream",
     "text": [
      "p p p\n"
     ]
    }
   ],
   "source": [
    "print(s[0],s[0][0],s[0][0][0])"
   ]
  },
  {
   "cell_type": "markdown",
   "id": "c38bc72e",
   "metadata": {},
   "source": [
    "   * B.  \n",
    "     * s문자열의 인덱스 범위는 (-1 ~ -6)이고 s[-100]은 인덱스의 범위를 초과했기 때문에 오류가 날 것입니다.  \n",
    "     * s문자열의 인덱스 범위는 (0 ~ 5)이고 s[100]은 인덱스의 범위를 초과했기 때문에 오류가 날 것입니다."
   ]
  },
  {
   "cell_type": "code",
   "execution_count": 114,
   "id": "2ab8da8c",
   "metadata": {},
   "outputs": [
    {
     "ename": "IndexError",
     "evalue": "string index out of range",
     "output_type": "error",
     "traceback": [
      "\u001b[0;31m---------------------------------------------------------------------------\u001b[0m",
      "\u001b[0;31mIndexError\u001b[0m                                Traceback (most recent call last)",
      "\u001b[0;32m<ipython-input-114-dd2baac26746>\u001b[0m in \u001b[0;36m<module>\u001b[0;34m\u001b[0m\n\u001b[0;32m----> 1\u001b[0;31m \u001b[0mprint\u001b[0m\u001b[0;34m(\u001b[0m\u001b[0ms\u001b[0m\u001b[0;34m[\u001b[0m\u001b[0;34m-\u001b[0m\u001b[0;36m100\u001b[0m\u001b[0;34m]\u001b[0m\u001b[0;34m)\u001b[0m\u001b[0;34m\u001b[0m\u001b[0;34m\u001b[0m\u001b[0m\n\u001b[0m",
      "\u001b[0;31mIndexError\u001b[0m: string index out of range"
     ]
    }
   ],
   "source": [
    "print(s[-100])"
   ]
  },
  {
   "cell_type": "code",
   "execution_count": 115,
   "id": "cd581e60",
   "metadata": {},
   "outputs": [
    {
     "ename": "IndexError",
     "evalue": "string index out of range",
     "output_type": "error",
     "traceback": [
      "\u001b[0;31m---------------------------------------------------------------------------\u001b[0m",
      "\u001b[0;31mIndexError\u001b[0m                                Traceback (most recent call last)",
      "\u001b[0;32m<ipython-input-115-4b48abbe85a9>\u001b[0m in \u001b[0;36m<module>\u001b[0;34m\u001b[0m\n\u001b[0;32m----> 1\u001b[0;31m \u001b[0mprint\u001b[0m\u001b[0;34m(\u001b[0m\u001b[0ms\u001b[0m\u001b[0;34m[\u001b[0m\u001b[0;36m100\u001b[0m\u001b[0;34m]\u001b[0m\u001b[0;34m)\u001b[0m\u001b[0;34m\u001b[0m\u001b[0;34m\u001b[0m\u001b[0m\n\u001b[0m",
      "\u001b[0;31mIndexError\u001b[0m: string index out of range"
     ]
    }
   ],
   "source": [
    "print(s[100])"
   ]
  },
  {
   "cell_type": "markdown",
   "id": "234f2042",
   "metadata": {},
   "source": [
    "   * C.  \n",
    "     * 초과 인덱스가 리스트 슬라이싱으로 실행하게되면 []으로 대체되기 때문에 s[:]와 같은 출력결과인 python이 출력 될 것입니다."
   ]
  },
  {
   "cell_type": "code",
   "execution_count": 116,
   "id": "c3d5c5e8",
   "metadata": {},
   "outputs": [
    {
     "name": "stdout",
     "output_type": "stream",
     "text": [
      "python\n"
     ]
    }
   ],
   "source": [
    "print(s[-100:100])"
   ]
  },
  {
   "cell_type": "markdown",
   "id": "36629969",
   "metadata": {},
   "source": [
    "   * D.  \n",
    "     * 슬라이싱에서 [시작:끝]은 시작 부터 끝 전까지의 리스트를 출력하게 되고 s 문자열의 인덱스값 1은 y이고 인덱스 -1은 n이므로 python에서 y부터 n전 까지인 ytho가 출력될 것입니다"
   ]
  },
  {
   "cell_type": "code",
   "execution_count": 117,
   "id": "8b835305",
   "metadata": {},
   "outputs": [
    {
     "name": "stdout",
     "output_type": "stream",
     "text": [
      "ytho\n"
     ]
    }
   ],
   "source": [
    "print(s[1:-1])"
   ]
  },
  {
   "cell_type": "markdown",
   "id": "6d93475b",
   "metadata": {},
   "source": [
    "   * E  \n",
    "       * 슬라이싱에서 [시작:끝]은 시작 부터 끝 전까지의 리스트를 출력하게 되고 s 문자열의 인덱스값 3은 h이고 인덱스 -3은 h이므로 python에서 h부터 h전 이므로 범위가 지정되지 않아 공백 리스트가 출력될 것입니다."
   ]
  },
  {
   "cell_type": "code",
   "execution_count": 118,
   "id": "8df87c73",
   "metadata": {},
   "outputs": [
    {
     "name": "stdout",
     "output_type": "stream",
     "text": [
      "\n"
     ]
    }
   ],
   "source": [
    "print(s[3:-3])"
   ]
  },
  {
   "cell_type": "markdown",
   "id": "765b8912",
   "metadata": {},
   "source": [
    "## <span style=\"color:blue\">과제 1.5</span>  \n",
    "    문제 : for문을 활용하여 1부터 100사이의 홀수를 출력하시오."
   ]
  },
  {
   "cell_type": "code",
   "execution_count": 119,
   "id": "9bc82ec7",
   "metadata": {},
   "outputs": [
    {
     "name": "stdout",
     "output_type": "stream",
     "text": [
      "[1, 3, 5, 7, 9, 11, 13, 15, 17, 19, 21, 23, 25, 27, 29, 31, 33, 35, 37, 39, 41, 43, 45, 47, 49, 51, 53, 55, 57, 59, 61, 63, 65, 67, 69, 71, 73, 75, 77, 79, 81, 83, 85, 87, 89, 91, 93, 95, 97, 99]\n"
     ]
    }
   ],
   "source": [
    "#홀수의 정의 2n+1을 활용해 홀수 출력\n",
    "print([2*i+1 for i in range(50)])"
   ]
  },
  {
   "cell_type": "markdown",
   "id": "8e62605e",
   "metadata": {},
   "source": [
    "## <span style=\"color:blue\">과제 1.6</span>  \n",
    "    문제 : while문을 활용하여 1부터 100사이의 짝수의 합을 계산하여 출력하시오."
   ]
  },
  {
   "cell_type": "code",
   "execution_count": 120,
   "id": "27ecac31",
   "metadata": {},
   "outputs": [
    {
     "name": "stdout",
     "output_type": "stream",
     "text": [
      "2450\n"
     ]
    }
   ],
   "source": [
    "count = 2\n",
    "sum = 0\n",
    "#count을 2씩 증가시키며 sum에 2부터 98까지 더해 sum을 출력\n",
    "while (count<100):\n",
    "    sum += count\n",
    "    count += 2\n",
    "print(sum)"
   ]
  },
  {
   "cell_type": "markdown",
   "id": "031d8c5d",
   "metadata": {},
   "source": [
    "## <span style=\"color:blue\">과제 1.7</span>  \n",
    "    문제 : 사용자로 부터 임의의 정수를 입력받고, 해당 숫자를 역순으로 출력하는 프로그램을 작성하시오.  \n",
    "        예) 정수를 입력하세요: 3125  \n",
    "            숫자 역순은 5213 입니다."
   ]
  },
  {
   "cell_type": "code",
   "execution_count": 121,
   "id": "14ac4d65",
   "metadata": {},
   "outputs": [
    {
     "name": "stdout",
     "output_type": "stream",
     "text": [
      "정수를 입력하세요:3125\n",
      "숫자 역순은 5213 입니다.\n"
     ]
    }
   ],
   "source": [
    "#정수를 문자열로 입력받음\n",
    "s_num = input(\"정수를 입력하세요:\")\n",
    "#슬라이싱을 통해 문자열 역순출력\n",
    "print(\"숫자 역순은 \"+s_num[::-1]+\" 입니다.\")"
   ]
  },
  {
   "cell_type": "markdown",
   "id": "64e73635",
   "metadata": {},
   "source": [
    "## <span style=\"color:blue\">과제 1.8</span>  \n",
    "    문제 : 사용자로 부터 정수를 입력받아서 1부터 그 사이에 존재하는 소수 (Prime number)를 출력하는 파이썬 프로그램을 작성하시오."
   ]
  },
  {
   "cell_type": "code",
   "execution_count": 122,
   "id": "26ded0e1",
   "metadata": {},
   "outputs": [
    {
     "name": "stdout",
     "output_type": "stream",
     "text": [
      "입력하신 정수까지의 소수(Prime number)를 출력합니다 :100\n",
      "97\n",
      "89\n",
      "83\n",
      "79\n",
      "73\n",
      "71\n",
      "67\n",
      "61\n",
      "59\n",
      "53\n",
      "47\n",
      "43\n",
      "41\n",
      "37\n",
      "31\n",
      "29\n",
      "23\n",
      "19\n",
      "17\n",
      "13\n",
      "11\n",
      "7\n",
      "5\n",
      "3\n",
      "2\n"
     ]
    }
   ],
   "source": [
    "#출력 범위를 정로수 입력받음\n",
    "p_num=int(input(\"입력하신 정수까지의 소수(Prime number)를 출력합니다 :\"))\n",
    "#소수 판별변수\n",
    "j_p_num=0\n",
    "#1~범위까지 1과 자기자신 외의 약수를 갖는지 판별후 갖지않으면 출력\n",
    "for i in range(p_num):\n",
    "    for j in range(2,p_num):\n",
    "        if (p_num%j==0):\n",
    "            j_p_num+=1\n",
    "            break\n",
    "    if(j_p_num==0 and p_num!=1):\n",
    "        print(p_num)\n",
    "    p_num-=1\n",
    "    j_p_num=0"
   ]
  },
  {
   "cell_type": "markdown",
   "id": "ed178a06",
   "metadata": {},
   "source": [
    "## <span style=\"color:blue\">과제 1.9</span>  \n",
    "    문제 : Kevin과 Stuart는 게임을 한다. 규칙은 아래와 같다.\n",
    "            1. 두 플레이어에게 같은 string, S, 가 주어진다.  \n",
    "            2. 두 플레이어는 string S의 문자를 사용하여 substring을 만들어야 한다(중복 가능).  \n",
    "            3. Stuart는 자음으로 시작하는 단어를 만들어야 한다.  \n",
    "            4. Kevin은 모음으로 시작하는 단어를 만들어야 한다.  \n",
    "            5. 게임은 두 플레이어가 만들 수 있는 모든 단어를 만들었을 때 끝난다.  \n",
    "            6. 점수 계산 : substring 1개당 +1 점을 획득한다. (아래 그림 참고)  \n",
    "            7.  \n",
    "<img src=\"https://nbviewer.jupyter.org/github/linklab/supercharged_python/blob/master/assignment2021/image/assignment1-9.png\" width=\"450px\" height=\"300px\" title=\"assignmet 1~9\" alt=\"assignmet_img\"></img><br/>  \n",
    "  \n",
    "            8. 사용자로 부터 대문자로 이루어진 string S를 입력받고, 승자와 그의 점수를 출력하는 프로그램을 작성하시오.  \n",
    "            [실행 예]  \n",
    "                string S를 입력하세요: BANANA  \n",
    "                승자: Stuart 점수: 12"
   ]
  },
  {
   "cell_type": "code",
   "execution_count": 123,
   "id": "df80fe9b",
   "metadata": {},
   "outputs": [
    {
     "name": "stdout",
     "output_type": "stream",
     "text": [
      "string S를 대문자로 입력하세요:BANANA\n",
      "Stuart:B\n",
      "Stuart:BA\n",
      "Stuart:BAN\n",
      "Stuart:BANA\n",
      "Stuart:BANAN\n",
      "Stuart:BANANA\n",
      "Kevin:A\n",
      "Kevin:AN\n",
      "Kevin:ANA\n",
      "Kevin:ANAN\n",
      "Kevin:ANANA\n",
      "Stuart:N\n",
      "Stuart:NA\n",
      "Stuart:NAN\n",
      "Stuart:NANA\n",
      "승자: Stuart 점수:  12\n"
     ]
    }
   ],
   "source": [
    "#실행할 문자열 입력변수 선언\n",
    "S=input(\"string S를 대문자로 입력하세요:\")\n",
    "#stuart와 kevin의 점수를 저장할 변수 선언\n",
    "s_score=0\n",
    "k_score=0\n",
    "#알파벳 a~z에 해당하는 문자 사용횟수 리스트선언\n",
    "f=[0 for i in range(26)]\n",
    "#입력 문자열 만큼 실행\n",
    "for i in range(len(S)):\n",
    "    #한번이상 사용된 문자는 실행 하지 않음\n",
    "    f[ord(S[i])-ord('A')]+=1\n",
    "    if(f[ord(S[i])-ord('A')]>1):\n",
    "        continue\n",
    "    else:\n",
    "        #모음일 경우 문자열을 만들어 기존 문자열과 비교해 점수 카운트\n",
    "        if(S[i]=='A'or S[i]=='E'or S[i]=='I'or S[i]=='O'or S[i]=='u'):\n",
    "            for j in range(i,len(S)):\n",
    "                s_string=S[i:j+1]\n",
    "                print(\"Kevin:\"+s_string)\n",
    "                for k in range(len(S)-len(s_string)+1):\n",
    "                    if(s_string==S[k:k+len(s_string)]):\n",
    "                        k_score+=1\n",
    "        #자음일 경우 문자열을 만들어 기존 문자열과 비교해 점수 카운트\n",
    "        else:\n",
    "            for j in range(i,len(S)):\n",
    "                s_string=S[i:j+1]\n",
    "                print(\"Stuart:\"+s_string)\n",
    "                for k in range(len(S)-len(s_string)+1):\n",
    "                    if(s_string==S[k:k+len(s_string)]):\n",
    "                        s_score+=1\n",
    "#점수를 비교해 승자 정보 출력\n",
    "if(s_score>k_score):\n",
    "    print(\"승자: Stuart \"+\"점수: \", s_score)\n",
    "elif(k_score>s_score):\n",
    "    print(\"승자: Kevin \"+\"점수: \", k_score)\n",
    "else:\n",
    "    print(\"무승부\")"
   ]
  },
  {
   "cell_type": "markdown",
   "id": "5d5517d7",
   "metadata": {},
   "source": [
    "## <span style=\"color:blue\">과제 1.10</span>  \n",
    "    문제 : 알파벳 소문자만으로 이루어진 string, S, 가 주어지고 아래 2가지 연산을 수행할 수 있다.  \n",
    "            -추가 : string S의 끝에 알파벳 소문자 하나를 추가한다.\n",
    "            -삭제 : string S의 마지막 문자 하나를 삭제한다. empty string에서 삭제 연산을 수행한 결과는 empty string이다.  \n",
    "          두 개의 string, s와 t, 그리고 정수 k가 주어질 때, 정확히 k번의 연산을 통해 s를 t로 바꿀 수 있는지 판단하는 함수를 작성하시오.    \n",
    "          예시) \n",
    "          1. s = 'hackerhappy'    t = 'hackerrank'    k = 9    => 'Yes'  \n",
    "          2. s = 'aba'            t = 'aba'           k = 7    => 'Yes'  \n",
    "          3. s = 'ashley'         t = 'ash'           k = 2    => 'No'"
   ]
  },
  {
   "cell_type": "code",
   "execution_count": null,
   "id": "880976d6",
   "metadata": {},
   "outputs": [],
   "source": [
    "def appendDelete(s, t, k):\n",
    "    dif_num=-1;\n",
    "    #s와 t문자열이 같지 않은 경우\n",
    "    if(s!=t):\n",
    "        #s문자열이 t문자열 보다 길이가 작거나 같은경우\n",
    "        if(len(s)<=len(t)):\n",
    "            #s문자열과 t문자열을 비교\n",
    "            for i in range(len(s)):\n",
    "                if(s[i]!=t[i]):\n",
    "                    dif_num=i\n",
    "                    break\n",
    "            #s문자열 길이 안에서 과 t문자열과 틀린것이 하나라도 있다면\n",
    "            if(dif_num>=0):\n",
    "                if(len(s)-dif_num+len(t)-dif_num>k):\n",
    "                    return 'No'\n",
    "                else:\n",
    "                    return 'Yes'\n",
    "            #s문자열 길이 안에서 t문자열과 같다면\n",
    "            else:\n",
    "                if(len(t)-len(s)>k):\n",
    "                    return 'No'\n",
    "                else:\n",
    "                    return 'Yes'\n",
    "        #s문자열이 t문자열 보다 길이가 큰경우\n",
    "        else:\n",
    "            #t문자열과 s문자열을 비교\n",
    "            for i in range(len(t)):\n",
    "                if(s[i]!=t[i]):\n",
    "                    dif_num=i\n",
    "                    break\n",
    "            #t문자열 길이 안에서 과 s문자열과 틀린것이 하나라도 있다면\n",
    "            if(dif_num>=0):\n",
    "                if(len(s)-dif_num+len(t)-dif_num>k):\n",
    "                    return 'No'\n",
    "                else:\n",
    "                    return 'Yes'\n",
    "            #s문자열 길이 안에서 t문자열과 같다면\n",
    "            else:\n",
    "                if(len(s)-len(t)>k):\n",
    "                    return 'No'\n",
    "                else:\n",
    "                    return 'Yes'\n",
    "    #s와 t문자열이 같은 경우\n",
    "    else:\n",
    "        return \"Yes\""
   ]
  },
  {
   "cell_type": "code",
   "execution_count": 124,
   "id": "3b5a8c6e",
   "metadata": {},
   "outputs": [
    {
     "data": {
      "text/plain": [
       "'Yes'"
      ]
     },
     "execution_count": 124,
     "metadata": {},
     "output_type": "execute_result"
    }
   ],
   "source": [
    "appendDelete(s='hackerhappy', t='hackerrank', k=9)"
   ]
  },
  {
   "cell_type": "code",
   "execution_count": 125,
   "id": "f8910380",
   "metadata": {},
   "outputs": [
    {
     "data": {
      "text/plain": [
       "'Yes'"
      ]
     },
     "execution_count": 125,
     "metadata": {},
     "output_type": "execute_result"
    }
   ],
   "source": [
    "appendDelete(s='aba', t='aba', k=7)"
   ]
  },
  {
   "cell_type": "code",
   "execution_count": 126,
   "id": "c55dda16",
   "metadata": {},
   "outputs": [
    {
     "data": {
      "text/plain": [
       "'No'"
      ]
     },
     "execution_count": 126,
     "metadata": {},
     "output_type": "execute_result"
    }
   ],
   "source": [
    "appendDelete(s='ashley',t='ash',k=2)"
   ]
  },
  {
   "cell_type": "markdown",
   "id": "bb559ddc",
   "metadata": {},
   "source": [
    "## <span style=\"color:blue\">소감</span>  \n",
    "현재까지 강의를 듣고 해당 과제를 해보니 의외로 인터넷에서 추가정보를 찾는 경우는 마크다운을 제외하고는 별로 없었습니다.  \n",
    "충분히 강의만을 듣고 풀수 있는 문제들이었으나 해당 과제를 하며 문제를 해석하지 못해 오랜 시간을 걸려 제가 이해력이 떨어진다는 것을 새삼 느꼈습니다.  \n",
    "이번 과제에서는 가장 기억에 남는것은 문자를 정수로 변환 시킬 수 없고 해당 과정을 하려면 ord()를 이용해 아스키코드를 정수로 변환 할 수 있다는 것이었습니다.  \n",
    "이 뿐만 아니라 문자열 슬라이싱을 활용하는 법이나 문제를 푸는 사고력을 기를수 있는 의미있는 과제였던것 같습니다.  \n",
    "jupyter notebook과 마크다운에 좀 익숙해 졌으니 다음 과제에서는 이를 수행하는 시간이 단축이 될것이라 예상하고 소망합니다.  \n",
    "마지막으로 혹시 괜찮으시다면 수행한 과제의 알고리즘이 부족하거나 틀린점이 있다면 피드백 주셨으면 좋겠습니다."
   ]
  }
 ],
 "metadata": {
  "kernelspec": {
   "display_name": "Python 3",
   "language": "python",
   "name": "python3"
  },
  "language_info": {
   "codemirror_mode": {
    "name": "ipython",
    "version": 3
   },
   "file_extension": ".py",
   "mimetype": "text/x-python",
   "name": "python",
   "nbconvert_exporter": "python",
   "pygments_lexer": "ipython3",
   "version": "3.8.8"
  }
 },
 "nbformat": 4,
 "nbformat_minor": 5
}
